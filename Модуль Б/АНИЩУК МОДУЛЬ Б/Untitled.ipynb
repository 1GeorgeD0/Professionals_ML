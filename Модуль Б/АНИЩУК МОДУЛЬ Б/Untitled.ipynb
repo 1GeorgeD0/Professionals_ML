{
 "cells": [
  {
   "cell_type": "markdown",
   "id": "8e5d6e2d",
   "metadata": {},
   "source": [
    "# 2.1 Поиск ключевых слов/n-грамм. Векторизация текстов"
   ]
  },
  {
   "cell_type": "markdown",
   "id": "3a0b2799",
   "metadata": {},
   "source": [
    "Для начало мы импортируем библеотеки читаем данные"
   ]
  },
  {
   "cell_type": "code",
   "execution_count": 1,
   "id": "3d7748e3",
   "metadata": {},
   "outputs": [],
   "source": [
    "import pandas as pd\n",
    "import pymorphy2\n",
    "from sklearn.feature_extraction.text import CountVectorizer"
   ]
  },
  {
   "cell_type": "code",
   "execution_count": 2,
   "id": "54dd2c3e",
   "metadata": {},
   "outputs": [],
   "source": [
    "dataset = pd.read_csv('jobs1.csv')"
   ]
  },
  {
   "cell_type": "markdown",
   "id": "e5cc590c",
   "metadata": {},
   "source": [
    "так же мы удаляем повторный индекс меняем название атрибута"
   ]
  },
  {
   "cell_type": "code",
   "execution_count": 3,
   "id": "700df1c4",
   "metadata": {},
   "outputs": [],
   "source": [
    "dataset = dataset.drop(columns='Unnamed: 0')"
   ]
  },
  {
   "cell_type": "code",
   "execution_count": 4,
   "id": "61a2e542",
   "metadata": {},
   "outputs": [],
   "source": [
    "dataset = dataset.rename(columns={'0' : 'refs'})"
   ]
  },
  {
   "cell_type": "code",
   "execution_count": 5,
   "id": "54e674fa",
   "metadata": {},
   "outputs": [],
   "source": [
    "test = str(dataset)"
   ]
  },
  {
   "cell_type": "markdown",
   "id": "81eb1f7d",
   "metadata": {},
   "source": [
    "Я буду использовать 3 модели векторизации:<br>\n",
    "    1.TfidfVectorizer - Преобразование набора необработанных документов в матрицу функций TF-IDF. я буду использовать её так как она хорошо работает с большим количество данных<br>\n",
    "    2.HashingVectorizer - она имеет ряд преимуществ к примеру это маленькая память она масштабирует <br>\n",
    "    3.CountVectorizer - Преобразуйте коллекцию текстовых документов в матрицу количества токенов.<br>"
   ]
  },
  {
   "cell_type": "markdown",
   "id": "74bdd4c2",
   "metadata": {},
   "source": [
    "Для начало мы импортируем библеотеки"
   ]
  },
  {
   "cell_type": "code",
   "execution_count": 6,
   "id": "80d837c3",
   "metadata": {},
   "outputs": [],
   "source": [
    "from sklearn.feature_extraction.text import CountVectorizer\n",
    "from sklearn.feature_extraction.text import HashingVectorizer\n",
    "from sklearn.feature_extraction.text import TfidfVectorizer"
   ]
  },
  {
   "cell_type": "markdown",
   "id": "fd7ee737",
   "metadata": {},
   "source": [
    "# CountVectorizer "
   ]
  },
  {
   "cell_type": "code",
   "execution_count": 7,
   "id": "f93422bc",
   "metadata": {
    "collapsed": true
   },
   "outputs": [
    {
     "ename": "ValueError",
     "evalue": "Iterable over raw text documents expected, string object received.",
     "output_type": "error",
     "traceback": [
      "\u001b[1;31m---------------------------------------------------------------------------\u001b[0m",
      "\u001b[1;31mValueError\u001b[0m                                Traceback (most recent call last)",
      "\u001b[1;32mC:\\Users\\PROFIM~1\\AppData\\Local\\Temp/ipykernel_18464/2405616699.py\u001b[0m in \u001b[0;36m<module>\u001b[1;34m\u001b[0m\n\u001b[0;32m      1\u001b[0m \u001b[0mvectorizer2\u001b[0m \u001b[1;33m=\u001b[0m \u001b[0mCountVectorizer\u001b[0m\u001b[1;33m(\u001b[0m\u001b[0mngram_range\u001b[0m\u001b[1;33m=\u001b[0m\u001b[1;33m(\u001b[0m\u001b[1;36m1\u001b[0m\u001b[1;33m,\u001b[0m \u001b[1;36m3\u001b[0m\u001b[1;33m)\u001b[0m\u001b[1;33m)\u001b[0m\u001b[1;33m\u001b[0m\u001b[1;33m\u001b[0m\u001b[0m\n\u001b[1;32m----> 2\u001b[1;33m \u001b[0mX2\u001b[0m \u001b[1;33m=\u001b[0m \u001b[0mvectorizer2\u001b[0m\u001b[1;33m.\u001b[0m\u001b[0mfit_transform\u001b[0m\u001b[1;33m(\u001b[0m\u001b[0mtest\u001b[0m\u001b[1;33m)\u001b[0m\u001b[1;33m\u001b[0m\u001b[1;33m\u001b[0m\u001b[0m\n\u001b[0m\u001b[0;32m      3\u001b[0m \u001b[0mvectorizer2\u001b[0m\u001b[1;33m.\u001b[0m\u001b[0mget_feature_names_out\u001b[0m\u001b[1;33m(\u001b[0m\u001b[1;33m)\u001b[0m\u001b[1;33m\u001b[0m\u001b[1;33m\u001b[0m\u001b[0m\n",
      "\u001b[1;32mC:\\ProgramData\\Anaconda3\\lib\\site-packages\\sklearn\\feature_extraction\\text.py\u001b[0m in \u001b[0;36mfit_transform\u001b[1;34m(self, raw_documents, y)\u001b[0m\n\u001b[0;32m   1190\u001b[0m         \u001b[1;31m# TfidfVectorizer.\u001b[0m\u001b[1;33m\u001b[0m\u001b[1;33m\u001b[0m\u001b[0m\n\u001b[0;32m   1191\u001b[0m         \u001b[1;32mif\u001b[0m \u001b[0misinstance\u001b[0m\u001b[1;33m(\u001b[0m\u001b[0mraw_documents\u001b[0m\u001b[1;33m,\u001b[0m \u001b[0mstr\u001b[0m\u001b[1;33m)\u001b[0m\u001b[1;33m:\u001b[0m\u001b[1;33m\u001b[0m\u001b[1;33m\u001b[0m\u001b[0m\n\u001b[1;32m-> 1192\u001b[1;33m             raise ValueError(\n\u001b[0m\u001b[0;32m   1193\u001b[0m                 \u001b[1;34m\"Iterable over raw text documents expected, \"\u001b[0m\u001b[1;33m\u001b[0m\u001b[1;33m\u001b[0m\u001b[0m\n\u001b[0;32m   1194\u001b[0m                 \"string object received.\")\n",
      "\u001b[1;31mValueError\u001b[0m: Iterable over raw text documents expected, string object received."
     ]
    }
   ],
   "source": [
    "vectorizer2 = CountVectorizer(ngram_range=(1, 3))\n",
    "X2 = vectorizer2.fit_transform(test)\n",
    "vectorizer2.get_feature_names_out()"
   ]
  },
  {
   "cell_type": "markdown",
   "id": "889c2227",
   "metadata": {},
   "source": [
    "# HashingVectorizer"
   ]
  },
  {
   "cell_type": "code",
   "execution_count": null,
   "id": "82ad13b0",
   "metadata": {},
   "outputs": [],
   "source": []
  },
  {
   "cell_type": "markdown",
   "id": "94fb6a85",
   "metadata": {},
   "source": [
    "# TfidfVectorizer"
   ]
  },
  {
   "cell_type": "code",
   "execution_count": null,
   "id": "b6fc6fce",
   "metadata": {},
   "outputs": [],
   "source": []
  },
  {
   "cell_type": "code",
   "execution_count": null,
   "id": "725519e2",
   "metadata": {},
   "outputs": [],
   "source": []
  },
  {
   "cell_type": "code",
   "execution_count": null,
   "id": "48684b4e",
   "metadata": {},
   "outputs": [],
   "source": []
  },
  {
   "cell_type": "code",
   "execution_count": null,
   "id": "68805a9a",
   "metadata": {},
   "outputs": [],
   "source": []
  },
  {
   "cell_type": "code",
   "execution_count": 8,
   "id": "d057a7d1",
   "metadata": {},
   "outputs": [],
   "source": [
    "dataset.to_html('model.html')"
   ]
  },
  {
   "cell_type": "code",
   "execution_count": null,
   "id": "7af153c2",
   "metadata": {},
   "outputs": [],
   "source": []
  },
  {
   "cell_type": "code",
   "execution_count": null,
   "id": "2d767caa",
   "metadata": {},
   "outputs": [],
   "source": []
  },
  {
   "cell_type": "code",
   "execution_count": null,
   "id": "d72eeba9",
   "metadata": {},
   "outputs": [],
   "source": []
  },
  {
   "cell_type": "code",
   "execution_count": null,
   "id": "75cc609e",
   "metadata": {},
   "outputs": [],
   "source": []
  },
  {
   "cell_type": "code",
   "execution_count": null,
   "id": "ee4bb1ed",
   "metadata": {},
   "outputs": [],
   "source": []
  },
  {
   "cell_type": "code",
   "execution_count": null,
   "id": "5def8e44",
   "metadata": {},
   "outputs": [],
   "source": []
  },
  {
   "cell_type": "code",
   "execution_count": null,
   "id": "335cc6a3",
   "metadata": {},
   "outputs": [],
   "source": []
  },
  {
   "cell_type": "code",
   "execution_count": null,
   "id": "79c7dc82",
   "metadata": {},
   "outputs": [],
   "source": []
  },
  {
   "cell_type": "code",
   "execution_count": null,
   "id": "6bf0c21d",
   "metadata": {},
   "outputs": [],
   "source": []
  }
 ],
 "metadata": {
  "kernelspec": {
   "display_name": "Python 3 (ipykernel)",
   "language": "python",
   "name": "python3"
  },
  "language_info": {
   "codemirror_mode": {
    "name": "ipython",
    "version": 3
   },
   "file_extension": ".py",
   "mimetype": "text/x-python",
   "name": "python",
   "nbconvert_exporter": "python",
   "pygments_lexer": "ipython3",
   "version": "3.9.7"
  }
 },
 "nbformat": 4,
 "nbformat_minor": 5
}
