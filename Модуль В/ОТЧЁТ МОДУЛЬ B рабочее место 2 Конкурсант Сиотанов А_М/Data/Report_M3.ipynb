{
 "cells": [
  {
   "cell_type": "markdown",
   "id": "b91c2d43",
   "metadata": {},
   "source": [
    "# 1. ОТЧЁТ МОДУЛЯ \"A\""
   ]
  },
  {
   "cell_type": "code",
   "execution_count": 1,
   "id": "0707c4a2",
   "metadata": {},
   "outputs": [],
   "source": [
    "# Подключение необходжимых библиотек\n",
    "import pandas as pd\n",
    "from bs4 import BeautifulSoup as Soup\n",
    "import requests"
   ]
  },
  {
   "cell_type": "markdown",
   "id": "23602904",
   "metadata": {},
   "source": [
    "## 1.1 Парсинг данных"
   ]
  },
  {
   "cell_type": "markdown",
   "id": "f00c43cf",
   "metadata": {},
   "source": [
    "На основе имеющихся аналитических статей, связанных с информационными технологиями, бизнесом и интернетом на просторах ХАБР необходжимо собьрать данные. Для выполнения этой задачи, нужно создать парсер."
   ]
  },
  {
   "cell_type": "code",
   "execution_count": 8,
   "id": "0c3cff3e",
   "metadata": {},
   "outputs": [],
   "source": [
    "# Тетсовый парсер сайта\n",
    "site_url = 'https://habr.com/ru/companies/vtb/profile/'\n",
    "links = [site_url]\n",
    "\n",
    "constructor = {\n",
    "    'Название': [],\n",
    "    'Рейтинг': [],\n",
    "    'Описание': [],\n",
    "    'Сфера деятельности': [],\n",
    "    'Дата публрикации': []\n",
    "}\n",
    "\n",
    "for link in links:\n",
    "    response = requests.get(link)\n",
    "    soup = Soup(response.content, 'html.parser')\n",
    "    items = soup.find_all('div', class_='pull-down')\n",
    "    for item in items:\n",
    "        title = item.find('a', class_='tm-company-card__name').text.strip()\n",
    "        reiting = item.find('span', class_='tm-votes-lever__score-counter').text.strip()\n",
    "        info = item.find('span', class_='tm-company-profile__content').text.strip()\n",
    "        sfera = item.find('div', class_='tm-company-profile__categories').text.strip()\n",
    "        datepub = item.find('dd', class_='tm-description-list__body').text.strip()\n",
    "        constructor['Название'] += [title] \n",
    "        constructor['Рейтинг'] += [reiting] \n",
    "        constructor['Описание'] += [info] \n",
    "        constructor['Сфера деятельности'] += [sfera] \n",
    "        constructor['Дата публрикации'] += [datepub] \n",
    "\n",
    "pd.DataFrame(constructor).to_csv('./DataFrame.csv', encoding=\"utf-8\", index=False)"
   ]
  },
  {
   "cell_type": "code",
   "execution_count": 9,
   "id": "55922b73",
   "metadata": {},
   "outputs": [],
   "source": [
    "# Присовение датафрейму вывода парсинга \n",
    "osnovadf = pd.read_csv('DataFrame.csv')"
   ]
  },
  {
   "cell_type": "code",
   "execution_count": 10,
   "id": "d4761bfa",
   "metadata": {},
   "outputs": [
    {
     "data": {
      "text/html": [
       "<div>\n",
       "<style scoped>\n",
       "    .dataframe tbody tr th:only-of-type {\n",
       "        vertical-align: middle;\n",
       "    }\n",
       "\n",
       "    .dataframe tbody tr th {\n",
       "        vertical-align: top;\n",
       "    }\n",
       "\n",
       "    .dataframe thead th {\n",
       "        text-align: right;\n",
       "    }\n",
       "</style>\n",
       "<table border=\"1\" class=\"dataframe\">\n",
       "  <thead>\n",
       "    <tr style=\"text-align: right;\">\n",
       "      <th></th>\n",
       "      <th>Название</th>\n",
       "      <th>Рейтинг</th>\n",
       "      <th>Описание</th>\n",
       "      <th>Сфера деятельности</th>\n",
       "      <th>Дата публрикации</th>\n",
       "    </tr>\n",
       "  </thead>\n",
       "  <tbody>\n",
       "    <tr>\n",
       "      <th>0</th>\n",
       "      <td>ВТБ</td>\n",
       "      <td>143.74</td>\n",
       "      <td>Банк ВТБ — международная финансовая группа, пр...</td>\n",
       "      <td>Веб-разработка\\n            \\n              Пр...</td>\n",
       "      <td>Спонсор сезона machine learning ▇▅▄▅▅▄ ▇▄▅</td>\n",
       "    </tr>\n",
       "  </tbody>\n",
       "</table>\n",
       "</div>"
      ],
      "text/plain": [
       "  Название  Рейтинг                                           Описание  \\\n",
       "0      ВТБ   143.74  Банк ВТБ — международная финансовая группа, пр...   \n",
       "\n",
       "                                  Сфера деятельности  \\\n",
       "0  Веб-разработка\\n            \\n              Пр...   \n",
       "\n",
       "                             Дата публрикации  \n",
       "0  Спонсор сезона machine learning ▇▅▄▅▅▄ ▇▄▅  "
      ]
     },
     "execution_count": 10,
     "metadata": {},
     "output_type": "execute_result"
    }
   ],
   "source": [
    "# Просмотр датафрейма\n",
    "osnovadf"
   ]
  },
  {
   "cell_type": "code",
   "execution_count": 11,
   "id": "e41ce067",
   "metadata": {},
   "outputs": [],
   "source": [
    "# Заготовка полного парсера с перечнем сайтов\n",
    "url_list = ['https://habr.com/ru/companies/avito/profile/', 'https://habr.com/ru/companies/vtb/profile/',\n",
    "         'https://habr.com/ru/companies/vk/profile/', 'https://habr.com/ru/companies/vk/profile/']\n",
    "i = 0\n",
    "while i != len(url_list):\n",
    "    site_url = url_list[i]\n",
    "    links = [site_url]\n",
    "            \n",
    "    constructor = {\n",
    "        'Название': [],\n",
    "        'Рейтинг': [],\n",
    "        'Описание': [],\n",
    "        'Сфера деятельности': [],\n",
    "        'Дата публрикации': []\n",
    "    }\n",
    "    for link in links:\n",
    "        response = requests.get(link)\n",
    "        soup = Soup(response.content, 'html.parser')\n",
    "        items = soup.find_all('div', class_='pull-down')\n",
    "        for item in items:\n",
    "            title = item.find('a', class_='tm-company-card__name').text.strip()\n",
    "            reiting = item.find('span', class_='tm-votes-lever__score-counter').text.strip()\n",
    "            info = item.find('span', class_='tm-company-profile__content').text.strip()\n",
    "            sfera = item.find('div', class_='tm-company-profile__categories').text.strip()\n",
    "            datepub = item.find('dd', class_='tm-description-list__body tm-description-list__body tm-description-list__body_variant-columns-info').text.strip()\n",
    "            constructor['Название'] += [title] \n",
    "            constructor['Рейтинг'] += [reiting] \n",
    "            constructor['Описание'] += [info] \n",
    "            constructor['Сфера деятельности'] += [sfera] \n",
    "            constructor['Дата публрикации'] += [datepub] \n",
    "        pd.DataFrame(constructor).to_csv('./DataFrame2.csv', encoding=\"utf-8\", index=False)\n",
    "        i += 1"
   ]
  },
  {
   "cell_type": "code",
   "execution_count": 12,
   "id": "e73dea78",
   "metadata": {},
   "outputs": [],
   "source": [
    "# Второй датафрейм для проверки парсинга\n",
    "povtordf = pd.read_csv('DataFrame2.csv')"
   ]
  },
  {
   "cell_type": "code",
   "execution_count": 13,
   "id": "07f33e89",
   "metadata": {},
   "outputs": [
    {
     "data": {
      "text/html": [
       "<div>\n",
       "<style scoped>\n",
       "    .dataframe tbody tr th:only-of-type {\n",
       "        vertical-align: middle;\n",
       "    }\n",
       "\n",
       "    .dataframe tbody tr th {\n",
       "        vertical-align: top;\n",
       "    }\n",
       "\n",
       "    .dataframe thead th {\n",
       "        text-align: right;\n",
       "    }\n",
       "</style>\n",
       "<table border=\"1\" class=\"dataframe\">\n",
       "  <thead>\n",
       "    <tr style=\"text-align: right;\">\n",
       "      <th></th>\n",
       "      <th>Название</th>\n",
       "      <th>Рейтинг</th>\n",
       "      <th>Описание</th>\n",
       "      <th>Сфера деятельности</th>\n",
       "      <th>Дата публрикации</th>\n",
       "    </tr>\n",
       "  </thead>\n",
       "  <tbody>\n",
       "    <tr>\n",
       "      <th>0</th>\n",
       "      <td>VK</td>\n",
       "      <td>4.68</td>\n",
       "      <td>Строим сервисы, используя силу социальных сете...</td>\n",
       "      <td>Мобильные технологии\\n            \\n          ...</td>\n",
       "      <td>vk.com</td>\n",
       "    </tr>\n",
       "  </tbody>\n",
       "</table>\n",
       "</div>"
      ],
      "text/plain": [
       "  Название  Рейтинг                                           Описание  \\\n",
       "0       VK     4.68  Строим сервисы, используя силу социальных сете...   \n",
       "\n",
       "                                  Сфера деятельности Дата публрикации  \n",
       "0  Мобильные технологии\\n            \\n          ...           vk.com  "
      ]
     },
     "execution_count": 13,
     "metadata": {},
     "output_type": "execute_result"
    }
   ],
   "source": [
    "# Просмотр датафрейма\n",
    "povtordf"
   ]
  },
  {
   "cell_type": "markdown",
   "id": "21fb7656",
   "metadata": {},
   "source": [
    "# ОТЧЁТ  МОДУЛЯ \"Б\""
   ]
  },
  {
   "cell_type": "code",
   "execution_count": 2,
   "id": "5f1086da",
   "metadata": {},
   "outputs": [
    {
     "data": {
      "text/html": [
       "<div>\n",
       "<style scoped>\n",
       "    .dataframe tbody tr th:only-of-type {\n",
       "        vertical-align: middle;\n",
       "    }\n",
       "\n",
       "    .dataframe tbody tr th {\n",
       "        vertical-align: top;\n",
       "    }\n",
       "\n",
       "    .dataframe thead th {\n",
       "        text-align: right;\n",
       "    }\n",
       "</style>\n",
       "<table border=\"1\" class=\"dataframe\">\n",
       "  <thead>\n",
       "    <tr style=\"text-align: right;\">\n",
       "      <th></th>\n",
       "      <th>0</th>\n",
       "      <th>1</th>\n",
       "      <th>2</th>\n",
       "      <th>3</th>\n",
       "      <th>4</th>\n",
       "      <th>5</th>\n",
       "    </tr>\n",
       "  </thead>\n",
       "  <tbody>\n",
       "    <tr>\n",
       "      <th>1</th>\n",
       "      <td>AvitoTech</td>\n",
       "      <td>Мы команда инженеров Авито. В блоге рассказыва...</td>\n",
       "      <td>192.81</td>\n",
       "      <td>Веб-разработка Электронная коммерция Веб-сервисы</td>\n",
       "      <td>27.05.16</td>\n",
       "      <td>Государство и Общество</td>\n",
       "    </tr>\n",
       "    <tr>\n",
       "      <th>2</th>\n",
       "      <td>ВТБ</td>\n",
       "      <td>Банк ВТБ — международная финансовая группа, пр...</td>\n",
       "      <td>133.51</td>\n",
       "      <td>Веб-разработка Программное обеспечение Электро...</td>\n",
       "      <td>NaN</td>\n",
       "      <td>Государство и Общество</td>\n",
       "    </tr>\n",
       "    <tr>\n",
       "      <th>3</th>\n",
       "      <td>VK</td>\n",
       "      <td>Строим сервисы, используя силу социальных сете...</td>\n",
       "      <td>894.70</td>\n",
       "      <td>Мобильные технологии Веб-сервисы Игры и развле...</td>\n",
       "      <td>\\n09.07.08</td>\n",
       "      <td>Культурные проекты в сети</td>\n",
       "    </tr>\n",
       "    <tr>\n",
       "      <th>4</th>\n",
       "      <td>Альфа-Банк</td>\n",
       "      <td>Alfa Digital – IT-подразделение Альфа-Банка, к...</td>\n",
       "      <td>190.11</td>\n",
       "      <td>Дизайн и юзабилити Электронная коммерция Мобил...</td>\n",
       "      <td>11.09.12</td>\n",
       "      <td>Наука, технологии и инновации</td>\n",
       "    </tr>\n",
       "    <tr>\n",
       "      <th>5</th>\n",
       "      <td>Лаборатория Касперского</td>\n",
       "      <td>«Лаборатория Касперского» — крупнейшая в мире ...</td>\n",
       "      <td>354.52</td>\n",
       "      <td>Программное обеспечение</td>\n",
       "      <td>\\n08.08.08</td>\n",
       "      <td>Наука, технологии и инновации</td>\n",
       "    </tr>\n",
       "  </tbody>\n",
       "</table>\n",
       "</div>"
      ],
      "text/plain": [
       "                         0                                                  1  \\\n",
       "1                AvitoTech  Мы команда инженеров Авито. В блоге рассказыва...   \n",
       "2                      ВТБ  Банк ВТБ — международная финансовая группа, пр...   \n",
       "3                       VK  Строим сервисы, используя силу социальных сете...   \n",
       "4               Альфа-Банк  Alfa Digital – IT-подразделение Альфа-Банка, к...   \n",
       "5  Лаборатория Касперского  «Лаборатория Касперского» — крупнейшая в мире ...   \n",
       "\n",
       "        2                                                  3           4  \\\n",
       "1  192.81   Веб-разработка Электронная коммерция Веб-сервисы    27.05.16   \n",
       "2  133.51  Веб-разработка Программное обеспечение Электро...         NaN   \n",
       "3  894.70  Мобильные технологии Веб-сервисы Игры и развле...  \\n09.07.08   \n",
       "4  190.11  Дизайн и юзабилити Электронная коммерция Мобил...    11.09.12   \n",
       "5  354.52                            Программное обеспечение  \\n08.08.08   \n",
       "\n",
       "                               5  \n",
       "1         Государство и Общество  \n",
       "2         Государство и Общество  \n",
       "3      Культурные проекты в сети  \n",
       "4  Наука, технологии и инновации  \n",
       "5  Наука, технологии и инновации  "
      ]
     },
     "execution_count": 2,
     "metadata": {},
     "output_type": "execute_result"
    }
   ],
   "source": [
    "# Импорт датафрейма в переменную\n",
    "BaseDF = pd.read_csv('BaseDataFrame.csv', header=None)\n",
    "BaseDF = BaseDF.drop([0])\n",
    "BaseDF.head()"
   ]
  },
  {
   "cell_type": "code",
   "execution_count": 3,
   "id": "34f10e6e",
   "metadata": {},
   "outputs": [],
   "source": [
    "# Присовение имен к столбцам\n",
    "BaseDF.columns = ['Название', 'Описание','Рейтинг','Доп Атрибут', 'Дата публикации', 'Сфера']"
   ]
  },
  {
   "cell_type": "code",
   "execution_count": 4,
   "id": "dce4a14c",
   "metadata": {},
   "outputs": [
    {
     "data": {
      "text/html": [
       "<div>\n",
       "<style scoped>\n",
       "    .dataframe tbody tr th:only-of-type {\n",
       "        vertical-align: middle;\n",
       "    }\n",
       "\n",
       "    .dataframe tbody tr th {\n",
       "        vertical-align: top;\n",
       "    }\n",
       "\n",
       "    .dataframe thead th {\n",
       "        text-align: right;\n",
       "    }\n",
       "</style>\n",
       "<table border=\"1\" class=\"dataframe\">\n",
       "  <thead>\n",
       "    <tr style=\"text-align: right;\">\n",
       "      <th></th>\n",
       "      <th>Название</th>\n",
       "      <th>Описание</th>\n",
       "      <th>Рейтинг</th>\n",
       "      <th>Доп Атрибут</th>\n",
       "      <th>Дата публикации</th>\n",
       "      <th>Сфера</th>\n",
       "    </tr>\n",
       "  </thead>\n",
       "  <tbody>\n",
       "    <tr>\n",
       "      <th>1</th>\n",
       "      <td>AvitoTech</td>\n",
       "      <td>Мы команда инженеров Авито. В блоге рассказыва...</td>\n",
       "      <td>192.81</td>\n",
       "      <td>Веб-разработка Электронная коммерция Веб-сервисы</td>\n",
       "      <td>27.05.16</td>\n",
       "      <td>Государство и Общество</td>\n",
       "    </tr>\n",
       "    <tr>\n",
       "      <th>2</th>\n",
       "      <td>ВТБ</td>\n",
       "      <td>Банк ВТБ — международная финансовая группа, пр...</td>\n",
       "      <td>133.51</td>\n",
       "      <td>Веб-разработка Программное обеспечение Электро...</td>\n",
       "      <td>NaN</td>\n",
       "      <td>Государство и Общество</td>\n",
       "    </tr>\n",
       "    <tr>\n",
       "      <th>3</th>\n",
       "      <td>VK</td>\n",
       "      <td>Строим сервисы, используя силу социальных сете...</td>\n",
       "      <td>894.70</td>\n",
       "      <td>Мобильные технологии Веб-сервисы Игры и развле...</td>\n",
       "      <td>\\n09.07.08</td>\n",
       "      <td>Культурные проекты в сети</td>\n",
       "    </tr>\n",
       "    <tr>\n",
       "      <th>4</th>\n",
       "      <td>Альфа-Банк</td>\n",
       "      <td>Alfa Digital – IT-подразделение Альфа-Банка, к...</td>\n",
       "      <td>190.11</td>\n",
       "      <td>Дизайн и юзабилити Электронная коммерция Мобил...</td>\n",
       "      <td>11.09.12</td>\n",
       "      <td>Наука, технологии и инновации</td>\n",
       "    </tr>\n",
       "    <tr>\n",
       "      <th>5</th>\n",
       "      <td>Лаборатория Касперского</td>\n",
       "      <td>«Лаборатория Касперского» — крупнейшая в мире ...</td>\n",
       "      <td>354.52</td>\n",
       "      <td>Программное обеспечение</td>\n",
       "      <td>\\n08.08.08</td>\n",
       "      <td>Наука, технологии и инновации</td>\n",
       "    </tr>\n",
       "  </tbody>\n",
       "</table>\n",
       "</div>"
      ],
      "text/plain": [
       "                  Название                                           Описание  \\\n",
       "1                AvitoTech  Мы команда инженеров Авито. В блоге рассказыва...   \n",
       "2                      ВТБ  Банк ВТБ — международная финансовая группа, пр...   \n",
       "3                       VK  Строим сервисы, используя силу социальных сете...   \n",
       "4               Альфа-Банк  Alfa Digital – IT-подразделение Альфа-Банка, к...   \n",
       "5  Лаборатория Касперского  «Лаборатория Касперского» — крупнейшая в мире ...   \n",
       "\n",
       "   Рейтинг                                        Доп Атрибут Дата публикации  \\\n",
       "1   192.81   Веб-разработка Электронная коммерция Веб-сервисы        27.05.16   \n",
       "2   133.51  Веб-разработка Программное обеспечение Электро...             NaN   \n",
       "3   894.70  Мобильные технологии Веб-сервисы Игры и развле...      \\n09.07.08   \n",
       "4   190.11  Дизайн и юзабилити Электронная коммерция Мобил...        11.09.12   \n",
       "5   354.52                            Программное обеспечение      \\n08.08.08   \n",
       "\n",
       "                           Сфера  \n",
       "1         Государство и Общество  \n",
       "2         Государство и Общество  \n",
       "3      Культурные проекты в сети  \n",
       "4  Наука, технологии и инновации  \n",
       "5  Наука, технологии и инновации  "
      ]
     },
     "execution_count": 4,
     "metadata": {},
     "output_type": "execute_result"
    }
   ],
   "source": [
    "BaseDF.head()"
   ]
  },
  {
   "cell_type": "code",
   "execution_count": 5,
   "id": "5c70cbe1",
   "metadata": {},
   "outputs": [],
   "source": [
    "# N-граммы — усточивые последовательности из N слов, идущих подряд\n",
    "# Коллокация — устойчивое сочетание слов, не обязательно идущих подряд\n",
    "# Биграммы – это два слова, часто встречающиеся в документе вместе. Триграммы – это 3 часто встречающихся слова вместе."
   ]
  },
  {
   "cell_type": "code",
   "execution_count": 6,
   "id": "fd3ff957",
   "metadata": {},
   "outputs": [
    {
     "data": {
      "text/plain": [
       "[Text(0, 0, 'AvitoTech'),\n",
       " Text(1, 0, 'ВТБ'),\n",
       " Text(2, 0, 'VK'),\n",
       " Text(3, 0, 'Альфа-Банк'),\n",
       " Text(4, 0, 'Лаборатория Касперского'),\n",
       " Text(5, 0, 'Росатом'),\n",
       " Text(6, 0, 'Ростелеком'),\n",
       " Text(7, 0, 'ИТМО'),\n",
       " Text(8, 0, 'СберМаркет'),\n",
       " Text(9, 0, 'AGIMA'),\n",
       " Text(10, 0, 'Московский кредитный банк'),\n",
       " Text(11, 0, 'Тензор')]"
      ]
     },
     "execution_count": 6,
     "metadata": {},
     "output_type": "execute_result"
    },
    {
     "data": {
      "image/png": "[encoded data removed]",
      "text/plain": [
       "<Figure size 432x288 with 1 Axes>"
      ]
     },
     "metadata": {
      "needs_background": "light"
     },
     "output_type": "display_data"
    }
   ],
   "source": [
    "# Визуализация  рейтинга компаний\n",
    "import seaborn as sns\n",
    "graph = sns.barplot(data=BaseDF, x=\"Название\", y=\"Рейтинг\")\n",
    "graph.set_xticklabels(graph.get_xticklabels(),rotation = 90)"
   ]
  },
  {
   "cell_type": "code",
   "execution_count": 7,
   "id": "f21e8f12",
   "metadata": {},
   "outputs": [],
   "source": [
    "# Преобразование сторлбца с датой публикации в во временной формат данных\n",
    "BaseDF['Дата публикации'] = pd.to_datetime(BaseDF['Дата публикации'], infer_datetime_format=True)"
   ]
  },
  {
   "cell_type": "code",
   "execution_count": 8,
   "id": "2adc7236",
   "metadata": {},
   "outputs": [
    {
     "data": {
      "text/plain": [
       "Название                   object\n",
       "Описание                   object\n",
       "Рейтинг                   float64\n",
       "Доп Атрибут                object\n",
       "Дата публикации    datetime64[ns]\n",
       "Сфера                      object\n",
       "dtype: object"
      ]
     },
     "execution_count": 8,
     "metadata": {},
     "output_type": "execute_result"
    }
   ],
   "source": [
    "# Проверка результата выполнения кода\n",
    "datatypes = BaseDF.dtypes\n",
    "datatypes"
   ]
  },
  {
   "cell_type": "code",
   "execution_count": 9,
   "id": "4daa85f6",
   "metadata": {},
   "outputs": [
    {
     "ename": "TypeError",
     "evalue": "The x variable is categorical, but one of ['numeric', 'datetime'] is required",
     "output_type": "error",
     "traceback": [
      "\u001b[1;31m---------------------------------------------------------------------------\u001b[0m",
      "\u001b[1;31mTypeError\u001b[0m                                 Traceback (most recent call last)",
      "\u001b[1;32mC:\\Users\\PROFIM~1\\AppData\\Local\\Temp/ipykernel_1196/758232775.py\u001b[0m in \u001b[0;36m<module>\u001b[1;34m\u001b[0m\n\u001b[0;32m      3\u001b[0m \u001b[1;32mfrom\u001b[0m \u001b[0mdatetime\u001b[0m \u001b[1;32mimport\u001b[0m \u001b[0mdatetime\u001b[0m\u001b[1;33m\u001b[0m\u001b[1;33m\u001b[0m\u001b[0m\n\u001b[0;32m      4\u001b[0m \u001b[0msns\u001b[0m\u001b[1;33m.\u001b[0m\u001b[0mset_theme\u001b[0m\u001b[1;33m(\u001b[0m\u001b[0mstyle\u001b[0m\u001b[1;33m=\u001b[0m\u001b[1;34m\"ticks\"\u001b[0m\u001b[1;33m)\u001b[0m\u001b[1;33m\u001b[0m\u001b[1;33m\u001b[0m\u001b[0m\n\u001b[1;32m----> 5\u001b[1;33m \u001b[0mgrapgdate\u001b[0m \u001b[1;33m=\u001b[0m \u001b[0msns\u001b[0m\u001b[1;33m.\u001b[0m\u001b[0mjointplot\u001b[0m\u001b[1;33m(\u001b[0m\u001b[0mdata\u001b[0m\u001b[1;33m=\u001b[0m\u001b[0mBaseDF\u001b[0m\u001b[1;33m,\u001b[0m \u001b[0mx\u001b[0m\u001b[1;33m=\u001b[0m\u001b[1;34m\"Название\"\u001b[0m\u001b[1;33m,\u001b[0m \u001b[0my\u001b[0m\u001b[1;33m=\u001b[0m\u001b[1;34m\"Дата публикации\"\u001b[0m\u001b[1;33m,\u001b[0m \u001b[0mcolor\u001b[0m\u001b[1;33m=\u001b[0m\u001b[1;34m\"#4CB391\"\u001b[0m\u001b[1;33m,\u001b[0m \u001b[0mhue\u001b[0m\u001b[1;33m=\u001b[0m\u001b[0mBaseDF\u001b[0m\u001b[1;33m[\u001b[0m\u001b[1;34m'Дата публикации'\u001b[0m\u001b[1;33m]\u001b[0m \u001b[1;33m)\u001b[0m\u001b[1;33m\u001b[0m\u001b[1;33m\u001b[0m\u001b[0m\n\u001b[0m\u001b[0;32m      6\u001b[0m \u001b[0mgrapgdate\u001b[0m\u001b[1;33m.\u001b[0m\u001b[0mset_xticklabels\u001b[0m\u001b[1;33m(\u001b[0m\u001b[0mgrapgdate\u001b[0m\u001b[1;33m.\u001b[0m\u001b[0mget_xticklabels\u001b[0m\u001b[1;33m(\u001b[0m\u001b[1;33m)\u001b[0m\u001b[1;33m,\u001b[0m\u001b[0mrotation\u001b[0m \u001b[1;33m=\u001b[0m \u001b[1;36m90\u001b[0m\u001b[1;33m)\u001b[0m\u001b[1;33m\u001b[0m\u001b[1;33m\u001b[0m\u001b[0m\n",
      "\u001b[1;32mC:\\ProgramData\\Anaconda3\\lib\\site-packages\\seaborn\\_decorators.py\u001b[0m in \u001b[0;36minner_f\u001b[1;34m(*args, **kwargs)\u001b[0m\n\u001b[0;32m     44\u001b[0m             )\n\u001b[0;32m     45\u001b[0m         \u001b[0mkwargs\u001b[0m\u001b[1;33m.\u001b[0m\u001b[0mupdate\u001b[0m\u001b[1;33m(\u001b[0m\u001b[1;33m{\u001b[0m\u001b[0mk\u001b[0m\u001b[1;33m:\u001b[0m \u001b[0marg\u001b[0m \u001b[1;32mfor\u001b[0m \u001b[0mk\u001b[0m\u001b[1;33m,\u001b[0m \u001b[0marg\u001b[0m \u001b[1;32min\u001b[0m \u001b[0mzip\u001b[0m\u001b[1;33m(\u001b[0m\u001b[0msig\u001b[0m\u001b[1;33m.\u001b[0m\u001b[0mparameters\u001b[0m\u001b[1;33m,\u001b[0m \u001b[0margs\u001b[0m\u001b[1;33m)\u001b[0m\u001b[1;33m}\u001b[0m\u001b[1;33m)\u001b[0m\u001b[1;33m\u001b[0m\u001b[1;33m\u001b[0m\u001b[0m\n\u001b[1;32m---> 46\u001b[1;33m         \u001b[1;32mreturn\u001b[0m \u001b[0mf\u001b[0m\u001b[1;33m(\u001b[0m\u001b[1;33m**\u001b[0m\u001b[0mkwargs\u001b[0m\u001b[1;33m)\u001b[0m\u001b[1;33m\u001b[0m\u001b[1;33m\u001b[0m\u001b[0m\n\u001b[0m\u001b[0;32m     47\u001b[0m     \u001b[1;32mreturn\u001b[0m \u001b[0minner_f\u001b[0m\u001b[1;33m\u001b[0m\u001b[1;33m\u001b[0m\u001b[0m\n\u001b[0;32m     48\u001b[0m \u001b[1;33m\u001b[0m\u001b[0m\n",
      "\u001b[1;32mC:\\ProgramData\\Anaconda3\\lib\\site-packages\\seaborn\\axisgrid.py\u001b[0m in \u001b[0;36mjointplot\u001b[1;34m(x, y, data, kind, color, height, ratio, space, dropna, xlim, ylim, marginal_ticks, joint_kws, marginal_kws, hue, palette, hue_order, hue_norm, **kwargs)\u001b[0m\n\u001b[0;32m   2252\u001b[0m \u001b[1;33m\u001b[0m\u001b[0m\n\u001b[0;32m   2253\u001b[0m         \u001b[0mmarginal_kws\u001b[0m\u001b[1;33m.\u001b[0m\u001b[0msetdefault\u001b[0m\u001b[1;33m(\u001b[0m\u001b[1;34m\"color\"\u001b[0m\u001b[1;33m,\u001b[0m \u001b[0mcolor\u001b[0m\u001b[1;33m)\u001b[0m\u001b[1;33m\u001b[0m\u001b[1;33m\u001b[0m\u001b[0m\n\u001b[1;32m-> 2254\u001b[1;33m         \u001b[0mgrid\u001b[0m\u001b[1;33m.\u001b[0m\u001b[0mplot_marginals\u001b[0m\u001b[1;33m(\u001b[0m\u001b[0mmarg_func\u001b[0m\u001b[1;33m,\u001b[0m \u001b[1;33m**\u001b[0m\u001b[0mmarginal_kws\u001b[0m\u001b[1;33m)\u001b[0m\u001b[1;33m\u001b[0m\u001b[1;33m\u001b[0m\u001b[0m\n\u001b[0m\u001b[0;32m   2255\u001b[0m \u001b[1;33m\u001b[0m\u001b[0m\n\u001b[0;32m   2256\u001b[0m     \u001b[1;32melif\u001b[0m \u001b[0mkind\u001b[0m\u001b[1;33m.\u001b[0m\u001b[0mstartswith\u001b[0m\u001b[1;33m(\u001b[0m\u001b[1;34m\"hist\"\u001b[0m\u001b[1;33m)\u001b[0m\u001b[1;33m:\u001b[0m\u001b[1;33m\u001b[0m\u001b[1;33m\u001b[0m\u001b[0m\n",
      "\u001b[1;32mC:\\ProgramData\\Anaconda3\\lib\\site-packages\\seaborn\\axisgrid.py\u001b[0m in \u001b[0;36mplot_marginals\u001b[1;34m(self, func, **kwargs)\u001b[0m\n\u001b[0;32m   1855\u001b[0m \u001b[1;33m\u001b[0m\u001b[0m\n\u001b[0;32m   1856\u001b[0m         \u001b[1;32mif\u001b[0m \u001b[0mseaborn_func\u001b[0m\u001b[1;33m:\u001b[0m\u001b[1;33m\u001b[0m\u001b[1;33m\u001b[0m\u001b[0m\n\u001b[1;32m-> 1857\u001b[1;33m             \u001b[0mfunc\u001b[0m\u001b[1;33m(\u001b[0m\u001b[0mx\u001b[0m\u001b[1;33m=\u001b[0m\u001b[0mself\u001b[0m\u001b[1;33m.\u001b[0m\u001b[0mx\u001b[0m\u001b[1;33m,\u001b[0m \u001b[0max\u001b[0m\u001b[1;33m=\u001b[0m\u001b[0mself\u001b[0m\u001b[1;33m.\u001b[0m\u001b[0max_marg_x\u001b[0m\u001b[1;33m,\u001b[0m \u001b[1;33m**\u001b[0m\u001b[0mkwargs\u001b[0m\u001b[1;33m)\u001b[0m\u001b[1;33m\u001b[0m\u001b[1;33m\u001b[0m\u001b[0m\n\u001b[0m\u001b[0;32m   1858\u001b[0m         \u001b[1;32melse\u001b[0m\u001b[1;33m:\u001b[0m\u001b[1;33m\u001b[0m\u001b[1;33m\u001b[0m\u001b[0m\n\u001b[0;32m   1859\u001b[0m             \u001b[0mplt\u001b[0m\u001b[1;33m.\u001b[0m\u001b[0msca\u001b[0m\u001b[1;33m(\u001b[0m\u001b[0mself\u001b[0m\u001b[1;33m.\u001b[0m\u001b[0max_marg_x\u001b[0m\u001b[1;33m)\u001b[0m\u001b[1;33m\u001b[0m\u001b[1;33m\u001b[0m\u001b[0m\n",
      "\u001b[1;32mC:\\ProgramData\\Anaconda3\\lib\\site-packages\\seaborn\\_decorators.py\u001b[0m in \u001b[0;36minner_f\u001b[1;34m(*args, **kwargs)\u001b[0m\n\u001b[0;32m     44\u001b[0m             )\n\u001b[0;32m     45\u001b[0m         \u001b[0mkwargs\u001b[0m\u001b[1;33m.\u001b[0m\u001b[0mupdate\u001b[0m\u001b[1;33m(\u001b[0m\u001b[1;33m{\u001b[0m\u001b[0mk\u001b[0m\u001b[1;33m:\u001b[0m \u001b[0marg\u001b[0m \u001b[1;32mfor\u001b[0m \u001b[0mk\u001b[0m\u001b[1;33m,\u001b[0m \u001b[0marg\u001b[0m \u001b[1;32min\u001b[0m \u001b[0mzip\u001b[0m\u001b[1;33m(\u001b[0m\u001b[0msig\u001b[0m\u001b[1;33m.\u001b[0m\u001b[0mparameters\u001b[0m\u001b[1;33m,\u001b[0m \u001b[0margs\u001b[0m\u001b[1;33m)\u001b[0m\u001b[1;33m}\u001b[0m\u001b[1;33m)\u001b[0m\u001b[1;33m\u001b[0m\u001b[1;33m\u001b[0m\u001b[0m\n\u001b[1;32m---> 46\u001b[1;33m         \u001b[1;32mreturn\u001b[0m \u001b[0mf\u001b[0m\u001b[1;33m(\u001b[0m\u001b[1;33m**\u001b[0m\u001b[0mkwargs\u001b[0m\u001b[1;33m)\u001b[0m\u001b[1;33m\u001b[0m\u001b[1;33m\u001b[0m\u001b[0m\n\u001b[0m\u001b[0;32m     47\u001b[0m     \u001b[1;32mreturn\u001b[0m \u001b[0minner_f\u001b[0m\u001b[1;33m\u001b[0m\u001b[1;33m\u001b[0m\u001b[0m\n\u001b[0;32m     48\u001b[0m \u001b[1;33m\u001b[0m\u001b[0m\n",
      "\u001b[1;32mC:\\ProgramData\\Anaconda3\\lib\\site-packages\\seaborn\\distributions.py\u001b[0m in \u001b[0;36mkdeplot\u001b[1;34m(x, y, shade, vertical, kernel, bw, gridsize, cut, clip, legend, cumulative, shade_lowest, cbar, cbar_ax, cbar_kws, ax, weights, hue, palette, hue_order, hue_norm, multiple, common_norm, common_grid, levels, thresh, bw_method, bw_adjust, log_scale, color, fill, data, data2, warn_singular, **kwargs)\u001b[0m\n\u001b[0;32m   1760\u001b[0m     )\n\u001b[0;32m   1761\u001b[0m \u001b[1;33m\u001b[0m\u001b[0m\n\u001b[1;32m-> 1762\u001b[1;33m     \u001b[0mp\u001b[0m\u001b[1;33m.\u001b[0m\u001b[0m_attach\u001b[0m\u001b[1;33m(\u001b[0m\u001b[0max\u001b[0m\u001b[1;33m,\u001b[0m \u001b[0mallowed_types\u001b[0m\u001b[1;33m=\u001b[0m\u001b[1;33m[\u001b[0m\u001b[1;34m\"numeric\"\u001b[0m\u001b[1;33m,\u001b[0m \u001b[1;34m\"datetime\"\u001b[0m\u001b[1;33m]\u001b[0m\u001b[1;33m,\u001b[0m \u001b[0mlog_scale\u001b[0m\u001b[1;33m=\u001b[0m\u001b[0mlog_scale\u001b[0m\u001b[1;33m)\u001b[0m\u001b[1;33m\u001b[0m\u001b[1;33m\u001b[0m\u001b[0m\n\u001b[0m\u001b[0;32m   1763\u001b[0m \u001b[1;33m\u001b[0m\u001b[0m\n\u001b[0;32m   1764\u001b[0m     \u001b[1;32mif\u001b[0m \u001b[0mp\u001b[0m\u001b[1;33m.\u001b[0m\u001b[0munivariate\u001b[0m\u001b[1;33m:\u001b[0m\u001b[1;33m\u001b[0m\u001b[1;33m\u001b[0m\u001b[0m\n",
      "\u001b[1;32mC:\\ProgramData\\Anaconda3\\lib\\site-packages\\seaborn\\_core.py\u001b[0m in \u001b[0;36m_attach\u001b[1;34m(self, obj, allowed_types, log_scale)\u001b[0m\n\u001b[0;32m   1123\u001b[0m                     \u001b[1;34mf\"{allowed_types} is required\"\u001b[0m\u001b[1;33m\u001b[0m\u001b[1;33m\u001b[0m\u001b[0m\n\u001b[0;32m   1124\u001b[0m                 )\n\u001b[1;32m-> 1125\u001b[1;33m                 \u001b[1;32mraise\u001b[0m \u001b[0mTypeError\u001b[0m\u001b[1;33m(\u001b[0m\u001b[0merr\u001b[0m\u001b[1;33m)\u001b[0m\u001b[1;33m\u001b[0m\u001b[1;33m\u001b[0m\u001b[0m\n\u001b[0m\u001b[0;32m   1126\u001b[0m \u001b[1;33m\u001b[0m\u001b[0m\n\u001b[0;32m   1127\u001b[0m             \u001b[1;31m# Register with the matplotlib unit conversion machinery\u001b[0m\u001b[1;33m\u001b[0m\u001b[1;33m\u001b[0m\u001b[0m\n",
      "\u001b[1;31mTypeError\u001b[0m: The x variable is categorical, but one of ['numeric', 'datetime'] is required"
     ]
    },
    {
     "data": {
      "image/png": "[encoded data removed]",
      "text/plain": [
       "<Figure size 432x432 with 3 Axes>"
      ]
     },
     "metadata": {},
     "output_type": "display_data"
    }
   ],
   "source": [
    "# Визуализация данных:  дата публикации компаний\n",
    "import matplotlib.pyplot as plt\n",
    "from datetime import datetime\n",
    "sns.set_theme(style=\"ticks\")\n",
    "grapgdate = sns.jointplot(data=BaseDF, x=\"Название\", y=\"Дата публикации\", color=\"#4CB391\", hue=BaseDF['Дата публикации'] )\n",
    "grapgdate.set_xticklabels(grapgdate.get_xticklabels(),rotation = 90)"
   ]
  },
  {
   "cell_type": "markdown",
   "id": "14bbba90",
   "metadata": {},
   "source": [
    "# 3. ОТЧЁТ МОДЁЛЯ \"B\""
   ]
  },
  {
   "cell_type": "markdown",
   "id": "d8834609",
   "metadata": {},
   "source": [
    "## 3.1 Разбиение выборки"
   ]
  },
  {
   "cell_type": "markdown",
   "id": "279d7f82",
   "metadata": {},
   "source": [
    "### 3.1.1 Разбиение данных на обучающую и  тестирующую"
   ]
  },
  {
   "cell_type": "markdown",
   "id": "2a88e813",
   "metadata": {},
   "source": [
    "Прежде чем мы начнем обучение модели, нужно разделить данные так. Чаще всего для обучения модели используется 80% информации (в зависимости от объема данных размер выборки может варьироваться) и 20% – для тестирования (проверки точности)."
   ]
  },
  {
   "cell_type": "code",
   "execution_count": 50,
   "id": "0a23a5f8",
   "metadata": {},
   "outputs": [],
   "source": [
    "## Подкелючение библиотеки sklearn\n",
    "from sklearn.model_selection import train_test_split"
   ]
  },
  {
   "cell_type": "code",
   "execution_count": 92,
   "id": "4d874a42",
   "metadata": {},
   "outputs": [],
   "source": [
    "train, test = train_test_split(BaseDF, test_size = 0.2)"
   ]
  },
  {
   "cell_type": "markdown",
   "id": "0ffd2048",
   "metadata": {},
   "source": [
    "Примечание: Выбор разделения данных на обучающую и тестирующую стал в соотношении 80:20 исходя из закона **Парето**.\n",
    "«Принцип дисбаланса» или «Правило 20/80». Так называют закономерность, которую вывел учёный. Она говорит о том, что 80% результатов достигается за счёт приложения 20% усилий и наоборот. Точнее, лучше сказать не про усилия, а про факторы, так как подобный дисбаланс наблюдается во всей живой природе и системах. Даже если процесс с виду автономный и не требует чьих-то усилий, вы найдете в нём пропорцию 20/80 или близкую."
   ]
  },
  {
   "cell_type": "markdown",
   "id": "7d4c786e",
   "metadata": {},
   "source": [
    "### 3.1.2 Обучение модели"
   ]
  },
  {
   "cell_type": "markdown",
   "id": "d6648daa",
   "metadata": {},
   "source": [
    "Обучение будет проходить методом классификация текстов.\n",
    "**Классификация текстов** – метод машинного обучения, используемый для их фрагментации на категории"
   ]
  },
  {
   "cell_type": "markdown",
   "id": "8a23eb00",
   "metadata": {},
   "source": [
    "Подготовим файлы в формате .txt Содержание файла по умолчанию должно включать **label Сфера деятельности Название**"
   ]
  },
  {
   "cell_type": "code",
   "execution_count": 93,
   "id": "51e76a8e",
   "metadata": {},
   "outputs": [],
   "source": [
    "# Создадим текстовые файля для обучения модели с сферой и названием\n",
    "with open('train.txt', 'w') as f:\n",
    "    for each_text, each_label in zip(train['Название'], train['Сфера']):\n",
    "        f.writelines(f'__label__{each_label} {each_text}\\n')\n",
    "        \n",
    "with open('test.txt', 'w') as f:\n",
    "    for each_text, each_label in zip(test['Название'], test['Сфера']):\n",
    "        f.writelines(f'__label__{each_label} {each_text}\\n')\n"
   ]
  },
  {
   "cell_type": "markdown",
   "id": "9090e50b",
   "metadata": {},
   "source": [
    "Ниже представлен выводл получившегося результата в файлах train.txt и test.txt"
   ]
  },
  {
   "cell_type": "code",
   "execution_count": 94,
   "id": "a5b0591b",
   "metadata": {},
   "outputs": [
    {
     "name": "stderr",
     "output_type": "stream",
     "text": [
      "\"head\" не является внутренней или внешней\n",
      "командой, исполняемой программой или пакетным файлом.\n"
     ]
    }
   ],
   "source": [
    "!head -n 10 train.txt"
   ]
  },
  {
   "cell_type": "markdown",
   "id": "cde7e753",
   "metadata": {},
   "source": [
    "Необходимо подключить библиотеку fastText – популярная библиотека с открытым исходным кодом для классификации текстов."
   ]
  },
  {
   "cell_type": "code",
   "execution_count": 95,
   "id": "bf537651",
   "metadata": {},
   "outputs": [],
   "source": [
    "import fasttext"
   ]
  },
  {
   "cell_type": "markdown",
   "id": "11fdab51",
   "metadata": {},
   "source": [
    "Для обучения модели необходимо задать fastText входной файл и ее имя:"
   ]
  },
  {
   "cell_type": "code",
   "execution_count": 96,
   "id": "fefcfc46",
   "metadata": {},
   "outputs": [],
   "source": [
    "# Первая модель без оптимизации гиперпараметров\n",
    "model1 = fasttext.train_supervised('train.txt')"
   ]
  },
  {
   "cell_type": "code",
   "execution_count": 97,
   "id": "bf1f2bde",
   "metadata": {},
   "outputs": [],
   "source": [
    "# Создадим функцую для отображения результатов обучения модели\n",
    "def print_results(sample_size, precision, recall):\n",
    "    precision   = round(precision, 2)\n",
    "    recall      = round(recall, 2)\n",
    "    print(f'{sample_size=}')\n",
    "    print(f'{precision=}')\n",
    "    print(f'{recall=}')"
   ]
  },
  {
   "cell_type": "markdown",
   "id": "25f0f9d3",
   "metadata": {},
   "source": [
    "#### Функция позволит отобразить метрику обучения модели,  а именно:\n",
    "- Sample size - Размер выборки\n",
    "- Precision - Точность обучения\n",
    "- Recall - Полноту обучения"
   ]
  },
  {
   "cell_type": "code",
   "execution_count": 98,
   "id": "2e3b56e5",
   "metadata": {},
   "outputs": [
    {
     "name": "stdout",
     "output_type": "stream",
     "text": [
      "sample_size=3\n",
      "precision=0.67\n",
      "recall=0.67\n"
     ]
    }
   ],
   "source": [
    "# Применяем функцию\n",
    "print_results(*model1.test('test.txt'))"
   ]
  },
  {
   "cell_type": "markdown",
   "id": "f2339286",
   "metadata": {},
   "source": [
    "Сохраним результаты модели..."
   ]
  },
  {
   "cell_type": "code",
   "execution_count": 139,
   "id": "5cf9e4fc",
   "metadata": {},
   "outputs": [],
   "source": [
    "model1.save_model('Model1.model')"
   ]
  },
  {
   "cell_type": "markdown",
   "id": "f682a596",
   "metadata": {},
   "source": [
    "#### *Результаты, хотя и не идеальные, но выглядят многообещающими.*"
   ]
  },
  {
   "cell_type": "markdown",
   "id": "9962ddcd",
   "metadata": {},
   "source": [
    "Обучение методом классификация текстов показал превосходный результат обучения. Результат представлен в виде высокой точности и полноты данных обучения. Следовательно данный метод будет взят за основу обучения модели и последующей оптимизации, путём изменения гиперпараметров."
   ]
  },
  {
   "cell_type": "markdown",
   "id": "2d24681f",
   "metadata": {},
   "source": [
    "## 3.2 Оптимизация модели"
   ]
  },
  {
   "cell_type": "markdown",
   "id": "442cb76e",
   "metadata": {},
   "source": [
    "### 3.2.1 Оптимизация гиперпараметров"
   ]
  },
  {
   "cell_type": "markdown",
   "id": "805802a6",
   "metadata": {},
   "source": [
    "Поиск наилучших гиперпараметров вручную может занять много времени. По умолчанию модель fastText во время обучения включает каждый обучающий пример только пять раз, что довольно мало. Количество просмотров каждого примера (также известное как количество эпох) может быть увеличено с помощью ручной оптимизации **epoch**"
   ]
  },
  {
   "cell_type": "code",
   "execution_count": 99,
   "id": "981894e4",
   "metadata": {},
   "outputs": [],
   "source": [
    "# Вторая модель с количеством эпох равной 25\n",
    "model2 = fasttext.train_supervised('train.txt', epoch=25)"
   ]
  },
  {
   "cell_type": "code",
   "execution_count": 100,
   "id": "94996f92",
   "metadata": {},
   "outputs": [
    {
     "name": "stdout",
     "output_type": "stream",
     "text": [
      "sample_size=3\n",
      "precision=0.67\n",
      "recall=0.67\n"
     ]
    }
   ],
   "source": [
    "print_results(*model2.test('test.txt'))\n"
   ]
  },
  {
   "cell_type": "markdown",
   "id": "9c82941d",
   "metadata": {},
   "source": [
    "Как можно заметить, точность модели не возрасла. Еще один способ изменить скорость процесса – увеличить (или уменьшить) скорость обучения алгоритма. Это соответствует тому, насколько сильно меняется модель после обработки каждого примера. Скорость обучения равная 0 будет означать, что модель вообще не меняется и, следовательно, ничему не учится. Хорошие значения скорости обучения находятся в диапазоне 0.1 – 1.0. Также можно вручную оптимизировать этот гиперпараметр с помощью аргумента **lr**:"
   ]
  },
  {
   "cell_type": "code",
   "execution_count": 101,
   "id": "627d5114",
   "metadata": {},
   "outputs": [],
   "source": [
    "# Третья модель с количеством эпох равной 10 и скоростью обучния равной 1\n",
    "model3 = fasttext.train_supervised('train.txt', epoch=10, lr=1.0)"
   ]
  },
  {
   "cell_type": "code",
   "execution_count": 102,
   "id": "61417751",
   "metadata": {},
   "outputs": [
    {
     "name": "stdout",
     "output_type": "stream",
     "text": [
      "sample_size=3\n",
      "precision=0.67\n",
      "recall=0.67\n"
     ]
    }
   ],
   "source": [
    "print_results(*model3.test('test.txt'))"
   ]
  },
  {
   "cell_type": "markdown",
   "id": "6744ba6d",
   "metadata": {},
   "source": [
    "Наконец, существует возможность улучшить производительность модели, используя биграммы слов, а не просто юниграммы. Это особенно значимо для задач классификации, где важен порядок слов. Для этого необходимо включить в модель аргумент **wordNgrams** равный 2."
   ]
  },
  {
   "cell_type": "code",
   "execution_count": 103,
   "id": "27a6ee35",
   "metadata": {},
   "outputs": [],
   "source": [
    "# Четвёртая модель с аргументов wordNgrams = 2\n",
    "model4 = fasttext.train_supervised('train.txt', epoch=10, lr=1.0, wordNgrams =2)"
   ]
  },
  {
   "cell_type": "code",
   "execution_count": 106,
   "id": "43a91bb2",
   "metadata": {},
   "outputs": [
    {
     "name": "stdout",
     "output_type": "stream",
     "text": [
      "sample_size=3\n",
      "precision=0.67\n",
      "recall=0.67\n"
     ]
    }
   ],
   "source": [
    "print_results(*model4.test('test.txt'))"
   ]
  },
  {
   "cell_type": "markdown",
   "id": "cccfc1b9",
   "metadata": {},
   "source": [
    "Функция автоматической настройки fastText позволяет оптимизировать гиперпараметры для получения наивысшего показателя. Для этого необходимо включить модель аргумент **autotuneValidationFile** и тестовый датасет:"
   ]
  },
  {
   "cell_type": "code",
   "execution_count": 107,
   "id": "2a3484ba",
   "metadata": {},
   "outputs": [],
   "source": [
    "model5 = fasttext.train_supervised('train.txt', autotuneValidationFile='test.txt')"
   ]
  },
  {
   "cell_type": "code",
   "execution_count": 109,
   "id": "37b1f7b3",
   "metadata": {},
   "outputs": [
    {
     "name": "stdout",
     "output_type": "stream",
     "text": [
      "sample_size=3\n",
      "precision=1.0\n",
      "recall=1.0\n"
     ]
    }
   ],
   "source": [
    "print_results(*model5.test('test.txt'))"
   ]
  },
  {
   "cell_type": "markdown",
   "id": "1917518c",
   "metadata": {},
   "source": [
    "### 3.2.2 Оценка оптимизации модели"
   ]
  },
  {
   "cell_type": "markdown",
   "id": "a34901b2",
   "metadata": {},
   "source": [
    "Чтобы оценить модель после настройки гиперпараметров необходимо привести визуальное представление улучшение модели."
   ]
  },
  {
   "cell_type": "markdown",
   "id": "55641907",
   "metadata": {},
   "source": [
    "Для этого создадим отдельынй датафрейм с данными о изменении модели при настройке гиперпараметров:"
   ]
  },
  {
   "cell_type": "code",
   "execution_count": 135,
   "id": "02bda276",
   "metadata": {},
   "outputs": [],
   "source": [
    "df_resultmodelstatic = pd.DataFrame({'MODEL': ['Model1', 'Model2', 'Model3', 'Model4', 'Model5'],\n",
    "                                    'sample_size': [3, 3, 3, 3, 3],\n",
    "                                    'precision': [0.68, 0.68, 0.68, 0.68, 1.0],\n",
    "                                    'recall': [0.6, 0.6, 0.6, 0.6 , 1.0]})"
   ]
  },
  {
   "cell_type": "code",
   "execution_count": 136,
   "id": "fe43bff8",
   "metadata": {},
   "outputs": [
    {
     "data": {
      "text/html": [
       "<div>\n",
       "<style scoped>\n",
       "    .dataframe tbody tr th:only-of-type {\n",
       "        vertical-align: middle;\n",
       "    }\n",
       "\n",
       "    .dataframe tbody tr th {\n",
       "        vertical-align: top;\n",
       "    }\n",
       "\n",
       "    .dataframe thead th {\n",
       "        text-align: right;\n",
       "    }\n",
       "</style>\n",
       "<table border=\"1\" class=\"dataframe\">\n",
       "  <thead>\n",
       "    <tr style=\"text-align: right;\">\n",
       "      <th></th>\n",
       "      <th>MODEL</th>\n",
       "      <th>sample_size</th>\n",
       "      <th>precision</th>\n",
       "      <th>recall</th>\n",
       "    </tr>\n",
       "  </thead>\n",
       "  <tbody>\n",
       "    <tr>\n",
       "      <th>0</th>\n",
       "      <td>Model1</td>\n",
       "      <td>3</td>\n",
       "      <td>0.68</td>\n",
       "      <td>0.6</td>\n",
       "    </tr>\n",
       "    <tr>\n",
       "      <th>1</th>\n",
       "      <td>Model2</td>\n",
       "      <td>3</td>\n",
       "      <td>0.68</td>\n",
       "      <td>0.6</td>\n",
       "    </tr>\n",
       "    <tr>\n",
       "      <th>2</th>\n",
       "      <td>Model3</td>\n",
       "      <td>3</td>\n",
       "      <td>0.68</td>\n",
       "      <td>0.6</td>\n",
       "    </tr>\n",
       "    <tr>\n",
       "      <th>3</th>\n",
       "      <td>Model4</td>\n",
       "      <td>3</td>\n",
       "      <td>0.68</td>\n",
       "      <td>0.6</td>\n",
       "    </tr>\n",
       "    <tr>\n",
       "      <th>4</th>\n",
       "      <td>Model5</td>\n",
       "      <td>3</td>\n",
       "      <td>1.00</td>\n",
       "      <td>1.0</td>\n",
       "    </tr>\n",
       "  </tbody>\n",
       "</table>\n",
       "</div>"
      ],
      "text/plain": [
       "    MODEL  sample_size  precision  recall\n",
       "0  Model1            3       0.68     0.6\n",
       "1  Model2            3       0.68     0.6\n",
       "2  Model3            3       0.68     0.6\n",
       "3  Model4            3       0.68     0.6\n",
       "4  Model5            3       1.00     1.0"
      ]
     },
     "execution_count": 136,
     "metadata": {},
     "output_type": "execute_result"
    }
   ],
   "source": [
    "df_resultmodelstatic"
   ]
  },
  {
   "cell_type": "markdown",
   "id": "eb1dc01d",
   "metadata": {},
   "source": [
    "Датафрейм получился информативно-конструктивным, следует визуализировать его:"
   ]
  },
  {
   "cell_type": "code",
   "execution_count": 137,
   "id": "d0f2f654",
   "metadata": {},
   "outputs": [
    {
     "data": {
      "image/png": "[encoded data removed]",
      "text/plain": [
       "<Figure size 432x288 with 1 Axes>"
      ]
     },
     "metadata": {},
     "output_type": "display_data"
    }
   ],
   "source": [
    "import matplotlib\n",
    "matplotlib.rcParams.update({'font.size': 12})\n",
    "x = df_resultmodelstatic.MODEL\n",
    "\n",
    "# указываем в аргументе label содержание легенды \n",
    "plt.plot(x, df_resultmodelstatic.sample_size, ':b', label='Размер выборки')\n",
    "plt.plot(x, df_resultmodelstatic.precision, '--r', label='Точность')\n",
    "plt.plot(x, df_resultmodelstatic.recall, 'k', label='Полнота')\n",
    "\n",
    "plt.xlabel(r'$x$', fontsize=16)\n",
    "plt.ylabel(r'$f(x)$', fontsize=16)\n",
    "\n",
    "plt.xlim([0, 5])\n",
    "plt.ylim([0, 5])\n",
    "\n",
    "# выводим легенду\n",
    "plt.legend(fontsize=14)\n",
    "\n",
    "plt.tight_layout()\n",
    "plt.show()"
   ]
  },
  {
   "cell_type": "markdown",
   "id": "3b1b75ea",
   "metadata": {},
   "source": [
    "#### Настройка гиперпараметров привела у улучшению качества модели. Модель №5 с быстрой скоростью справляется с поставленной задачей, она показала лучшее качество обучение!"
   ]
  },
  {
   "cell_type": "markdown",
   "id": "e5f73827",
   "metadata": {},
   "source": [
    "Сохраним результаты модели и создадим функцию для классификации новых данных"
   ]
  },
  {
   "cell_type": "code",
   "execution_count": 140,
   "id": "ff942a3f",
   "metadata": {},
   "outputs": [],
   "source": [
    "model5.save_model('OptimizedModel.model')"
   ]
  },
  {
   "cell_type": "markdown",
   "id": "3356c58b",
   "metadata": {},
   "source": [
    "**fastText** также способен сжимать модель, чтобы получить файл гораздо меньшего размера, жертвуя лишь небольшой производительностью за счет количественной оценки."
   ]
  },
  {
   "cell_type": "code",
   "execution_count": 142,
   "id": "037e6dda",
   "metadata": {},
   "outputs": [],
   "source": [
    "model5.quantize(input='train.txt', retrain=True)"
   ]
  },
  {
   "cell_type": "code",
   "execution_count": 143,
   "id": "d5edb9b6",
   "metadata": {},
   "outputs": [
    {
     "name": "stdout",
     "output_type": "stream",
     "text": [
      "sample_size=3\n",
      "precision=1.0\n",
      "recall=1.0\n"
     ]
    }
   ],
   "source": [
    "print_results(*model5.test('test.txt'))"
   ]
  },
  {
   "cell_type": "markdown",
   "id": "69cc51b7",
   "metadata": {},
   "source": [
    "Сохраним сжатую модель..."
   ]
  },
  {
   "cell_type": "code",
   "execution_count": 144,
   "id": "d5411106",
   "metadata": {},
   "outputs": [],
   "source": [
    "model5.save_model('ZjataiadModel.model')"
   ]
  },
  {
   "cell_type": "markdown",
   "id": "6749fe85",
   "metadata": {},
   "source": [
    "### 3.2.3 Проверка работы модели"
   ]
  },
  {
   "cell_type": "markdown",
   "id": "304e4ae0",
   "metadata": {},
   "source": [
    "Можно проверить результаты на новых данных, введя примерную сферу:"
   ]
  },
  {
   "cell_type": "code",
   "execution_count": 155,
   "id": "aa83ad60",
   "metadata": {},
   "outputs": [],
   "source": [
    "# Импортируем и преобразуем fasttext, чтобы команда fasttext.load_model сработала\n",
    "import fasttext\n",
    "fasttext.FastText.eprint = lambda x: None\n",
    "# Загружаем, сохраненную ранее модель\n",
    "model_test = fasttext.load_model(\"OptimizedModel.model\")"
   ]
  },
  {
   "cell_type": "code",
   "execution_count": null,
   "id": "a6fcccb4",
   "metadata": {},
   "outputs": [],
   "source": [
    "# Пример классификации\n",
    "model.predict(\"...Ввести сюда...\")"
   ]
  }
 ],
 "metadata": {
  "kernelspec": {
   "display_name": "Python 3 (ipykernel)",
   "language": "python",
   "name": "python3"
  },
  "language_info": {
   "codemirror_mode": {
    "name": "ipython",
    "version": 3
   },
   "file_extension": ".py",
   "mimetype": "text/x-python",
   "name": "python",
   "nbconvert_exporter": "python",
   "pygments_lexer": "ipython3",
   "version": "3.9.7"
  }
 },
 "nbformat": 4,
 "nbformat_minor": 5
}
