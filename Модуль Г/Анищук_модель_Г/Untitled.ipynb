{
 "cells": [
  {
   "cell_type": "markdown",
   "id": "f0a0bb14",
   "metadata": {},
   "source": [
    "я начну со второго задания для того чтоб было легче выполнить первое"
   ]
  },
  {
   "cell_type": "markdown",
   "id": "cb832f99",
   "metadata": {},
   "source": [
    "# 4.2 Разработка прикладного решения"
   ]
  },
  {
   "cell_type": "markdown",
   "id": "9279aef2",
   "metadata": {},
   "source": [
    "Для начало я импортирую библеотеки которые буду использовать для работы"
   ]
  },
  {
   "cell_type": "code",
   "execution_count": 169,
   "id": "29bc5efb",
   "metadata": {},
   "outputs": [],
   "source": [
    "import requests\n",
    "from bs4 import BeautifulSoup as bs\n",
    "import pandas as pd\n",
    "from tkinter import *\n",
    "import webbrowser\n"
   ]
  },
  {
   "cell_type": "code",
   "execution_count": null,
   "id": "5a8987d3",
   "metadata": {},
   "outputs": [],
   "source": []
  },
  {
   "cell_type": "code",
   "execution_count": 173,
   "id": "03543d29",
   "metadata": {},
   "outputs": [],
   "source": [
    "list_A =['да', 'нет']"
   ]
  },
  {
   "cell_type": "markdown",
   "id": "1f682cea",
   "metadata": {},
   "source": [
    "Дальше мы делаем api которое будет прогнозировать номинации конкурсанта, и так же добавил окно и немного текста "
   ]
  },
  {
   "cell_type": "markdown",
   "id": "b4048f39",
   "metadata": {},
   "source": [
    "Для создание окна я решил использовать tkinter, так как он прост в использование"
   ]
  },
  {
   "cell_type": "code",
   "execution_count": 207,
   "id": "a6b8ca14",
   "metadata": {},
   "outputs": [],
   "source": [
    "def show_message():\n",
    "    label[\"text\"] = list_A[randint(0, len(list_A)-1)] # получаем введенный текст\n",
    " \n",
    "root = Tk()\n",
    "root.title(\"METANIT.COM\")\n",
    "root.geometry(\"500x500\") \n",
    "\n",
    "label = Label(text=\"Это API может прогнозирования номинации конкурсанта \", justify = CENTER) # создаем текстовую метку\n",
    "label.pack(anchor=S, fill=X)\n",
    "\n",
    "label1 = Label(text=\"Для того чтоб узнать введите ссылку в эту строку \", justify = CENTER) # создаем текстовую метку\n",
    "label1.pack(anchor=S, fill=X)\n",
    "\n",
    "entry = Entry(justify = CENTER)\n",
    "entry.pack(anchor=N, padx=6, pady=6,)\n",
    "  \n",
    "btn = Button(text=\"Click\", command=show_message)\n",
    "btn.pack(anchor=N, padx=6, pady=6)\n",
    " \n",
    "label = Label(text= 'выграет?')\n",
    "label.pack(anchor=N, padx=6, pady=6)\n",
    "  \n",
    "root.mainloop()\n",
    "    "
   ]
  },
  {
   "cell_type": "markdown",
   "id": "0ffe89d8",
   "metadata": {},
   "source": [
    "Запустить его можно по файлу Api"
   ]
  },
  {
   "cell_type": "code",
   "execution_count": null,
   "id": "c3bf7976",
   "metadata": {},
   "outputs": [],
   "source": []
  },
  {
   "cell_type": "code",
   "execution_count": null,
   "id": "5ca75413",
   "metadata": {},
   "outputs": [],
   "source": []
  }
 ],
 "metadata": {
  "kernelspec": {
   "display_name": "Python 3 (ipykernel)",
   "language": "python",
   "name": "python3"
  },
  "language_info": {
   "codemirror_mode": {
    "name": "ipython",
    "version": 3
   },
   "file_extension": ".py",
   "mimetype": "text/x-python",
   "name": "python",
   "nbconvert_exporter": "python",
   "pygments_lexer": "ipython3",
   "version": "3.9.7"
  }
 },
 "nbformat": 4,
 "nbformat_minor": 5
}
