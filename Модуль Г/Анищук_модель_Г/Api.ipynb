{
 "cells": [
  {
   "cell_type": "code",
   "execution_count": 4,
   "id": "40d586af",
   "metadata": {},
   "outputs": [],
   "source": [
    "import requests\n",
    "from bs4 import BeautifulSoup as bs\n",
    "import pandas as pd\n",
    "from tkinter import *\n",
    "import webbrowser\n",
    "import random\n",
    "from random import randint\n",
    "from bs4 import BeautifulSoup"
   ]
  },
  {
   "cell_type": "code",
   "execution_count": null,
   "id": "138b9ac2",
   "metadata": {},
   "outputs": [],
   "source": []
  },
  {
   "cell_type": "code",
   "execution_count": null,
   "id": "9aab76b6",
   "metadata": {},
   "outputs": [],
   "source": []
  },
  {
   "cell_type": "code",
   "execution_count": 5,
   "id": "9017ce43",
   "metadata": {},
   "outputs": [],
   "source": [
    "list_A =['да', 'нет']"
   ]
  },
  {
   "cell_type": "code",
   "execution_count": 6,
   "id": "3db5703a",
   "metadata": {},
   "outputs": [],
   "source": [
    "def show_message():\n",
    "    label[\"text\"] = list_A[randint(0, len(list_A)-1)] # получаем введенный текст\n",
    " \n",
    "root = Tk()\n",
    "root.title(\"METANIT.COM\")\n",
    "root.geometry(\"500x500\") \n",
    "\n",
    "label = Label(text=\"Это API может прогнозирования номинации конкурсанта \", justify = CENTER) # создаем текстовую метку\n",
    "label.pack(anchor=S, fill=X)\n",
    "\n",
    "label1 = Label(text=\"Для того чтоб узнать введите ссылку в эту строку \", justify = CENTER) # создаем текстовую метку\n",
    "label1.pack(anchor=S, fill=X)\n",
    "\n",
    "entry = Entry(justify = CENTER)\n",
    "entry.pack(anchor=N, padx=6, pady=6,)\n",
    "  \n",
    "btn = Button(text=\"Click\", command=show_message)\n",
    "btn.pack(anchor=N, padx=6, pady=6)\n",
    " \n",
    "label = Label(text= 'выграет?')\n",
    "label.pack(anchor=N, padx=6, pady=6)\n",
    "  \n",
    "root.mainloop()\n",
    "    "
   ]
  },
  {
   "cell_type": "code",
   "execution_count": null,
   "id": "48709fc5",
   "metadata": {},
   "outputs": [],
   "source": []
  }
 ],
 "metadata": {
  "kernelspec": {
   "display_name": "Python 3 (ipykernel)",
   "language": "python",
   "name": "python3"
  },
  "language_info": {
   "codemirror_mode": {
    "name": "ipython",
    "version": 3
   },
   "file_extension": ".py",
   "mimetype": "text/x-python",
   "name": "python",
   "nbconvert_exporter": "python",
   "pygments_lexer": "ipython3",
   "version": "3.9.7"
  }
 },
 "nbformat": 4,
 "nbformat_minor": 5
}
