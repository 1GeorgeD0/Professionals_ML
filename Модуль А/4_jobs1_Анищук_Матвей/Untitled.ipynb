{
 "cells": [
  {
   "cell_type": "markdown",
   "id": "444acbbd",
   "metadata": {},
   "source": [
    "# 1.1 Парсинг данных"
   ]
  },
  {
   "cell_type": "markdown",
   "id": "a693a39a",
   "metadata": {},
   "source": [
    "Для начало мы ипортируем библеотеки для удобной работы "
   ]
  },
  {
   "cell_type": "code",
   "execution_count": 1,
   "id": "9c8ffbe2",
   "metadata": {},
   "outputs": [],
   "source": [
    "import pandas as pd\n",
    "import requests\n",
    "from bs4 import BeautifulSoup as bs\n",
    "import re\n",
    "import pymorphy2"
   ]
  },
  {
   "cell_type": "markdown",
   "id": "ba6a867f",
   "metadata": {},
   "source": [
    "Для начало мы прочитаем каждый файл и проверим его длину строк"
   ]
  },
  {
   "cell_type": "code",
   "execution_count": 2,
   "id": "8a1e3304",
   "metadata": {},
   "outputs": [
    {
     "data": {
      "text/plain": [
       "135"
      ]
     },
     "execution_count": 2,
     "metadata": {},
     "output_type": "execute_result"
    }
   ],
   "source": [
    "gett = pd.read_json('Data/Gett.json')\n",
    "len(gett)"
   ]
  },
  {
   "cell_type": "code",
   "execution_count": 3,
   "id": "b74ec8be",
   "metadata": {},
   "outputs": [
    {
     "data": {
      "text/plain": [
       "400"
      ]
     },
     "execution_count": 3,
     "metadata": {},
     "output_type": "execute_result"
    }
   ],
   "source": [
    "heart = pd.read_json('Data/Здоровье.ру.json')\n",
    "len(heart)"
   ]
  },
  {
   "cell_type": "code",
   "execution_count": 4,
   "id": "d6d98917",
   "metadata": {},
   "outputs": [
    {
     "data": {
      "text/plain": [
       "18"
      ]
     },
     "execution_count": 4,
     "metadata": {},
     "output_type": "execute_result"
    }
   ],
   "source": [
    "tech = pd.read_json('Data/Проект по использованию технологий компьютерного зрения на базе искусственного интеллекта для анализа медицинских изображений.json')\n",
    "len(tech)"
   ]
  },
  {
   "cell_type": "code",
   "execution_count": 5,
   "id": "78a95639",
   "metadata": {},
   "outputs": [],
   "source": [
    "bot = pd.read_json('Data/Промобот.json')"
   ]
  },
  {
   "cell_type": "code",
   "execution_count": null,
   "id": "84b0b331",
   "metadata": {},
   "outputs": [],
   "source": []
  },
  {
   "cell_type": "markdown",
   "id": "a522b2a5",
   "metadata": {},
   "source": [
    "нам не удалось прочитать два файла Инотех и skillbox"
   ]
  },
  {
   "cell_type": "markdown",
   "id": "2887dcc0",
   "metadata": {},
   "source": [
    "Теперь мы соеденяем все прочитаные файлы через concat"
   ]
  },
  {
   "cell_type": "code",
   "execution_count": 6,
   "id": "e55b8a8a",
   "metadata": {},
   "outputs": [],
   "source": [
    "dataset = pd.concat([gett, heart, tech])"
   ]
  },
  {
   "cell_type": "code",
   "execution_count": 7,
   "id": "bc2576aa",
   "metadata": {},
   "outputs": [
    {
     "data": {
      "text/html": [
       "<div>\n",
       "<style scoped>\n",
       "    .dataframe tbody tr th:only-of-type {\n",
       "        vertical-align: middle;\n",
       "    }\n",
       "\n",
       "    .dataframe tbody tr th {\n",
       "        vertical-align: top;\n",
       "    }\n",
       "\n",
       "    .dataframe thead th {\n",
       "        text-align: right;\n",
       "    }\n",
       "</style>\n",
       "<table border=\"1\" class=\"dataframe\">\n",
       "  <thead>\n",
       "    <tr style=\"text-align: right;\">\n",
       "      <th></th>\n",
       "      <th>info</th>\n",
       "      <th>refs</th>\n",
       "      <th>refs_quant</th>\n",
       "    </tr>\n",
       "  </thead>\n",
       "  <tbody>\n",
       "    <tr>\n",
       "      <th>0</th>\n",
       "      <td>NaN</td>\n",
       "      <td>[Минтранс предлагает новую версию законопроект...</td>\n",
       "      <td>135</td>\n",
       "    </tr>\n",
       "    <tr>\n",
       "      <th>1</th>\n",
       "      <td>NaN</td>\n",
       "      <td>[По информации «РИА Новости», агрегатор такси ...</td>\n",
       "      <td>135</td>\n",
       "    </tr>\n",
       "    <tr>\n",
       "      <th>2</th>\n",
       "      <td>NaN</td>\n",
       "      <td>[Как сообщает издание Wired, с 1 марта 2022 го...</td>\n",
       "      <td>135</td>\n",
       "    </tr>\n",
       "    <tr>\n",
       "      <th>3</th>\n",
       "      <td>NaN</td>\n",
       "      <td>[Китайский агрегатор такси DiDi уйдет с россий...</td>\n",
       "      <td>135</td>\n",
       "    </tr>\n",
       "    <tr>\n",
       "      <th>4</th>\n",
       "      <td>NaN</td>\n",
       "      <td>[По информации издания «Известия», антимонопол...</td>\n",
       "      <td>135</td>\n",
       "    </tr>\n",
       "    <tr>\n",
       "      <th>...</th>\n",
       "      <td>...</td>\n",
       "      <td>...</td>\n",
       "      <td>...</td>\n",
       "    </tr>\n",
       "    <tr>\n",
       "      <th>13</th>\n",
       "      <td>NaN</td>\n",
       "      <td>[Привет, Хабр! Такое понятие, как «Глубокое об...</td>\n",
       "      <td>18</td>\n",
       "    </tr>\n",
       "    <tr>\n",
       "      <th>14</th>\n",
       "      <td>NaN</td>\n",
       "      <td>[Перевод поста Филиппа Ходжетта, выступавшего ...</td>\n",
       "      <td>18</td>\n",
       "    </tr>\n",
       "    <tr>\n",
       "      <th>15</th>\n",
       "      <td>NaN</td>\n",
       "      <td>[Никто не понимает, как работают самые передов...</td>\n",
       "      <td>18</td>\n",
       "    </tr>\n",
       "    <tr>\n",
       "      <th>16</th>\n",
       "      <td>NaN</td>\n",
       "      <td>[Предположим, вы хотите создать приложение, ко...</td>\n",
       "      <td>18</td>\n",
       "    </tr>\n",
       "    <tr>\n",
       "      <th>17</th>\n",
       "      <td>NaN</td>\n",
       "      <td>[Добрый день, данная статья о моем opensource ...</td>\n",
       "      <td>18</td>\n",
       "    </tr>\n",
       "  </tbody>\n",
       "</table>\n",
       "<p>553 rows × 3 columns</p>\n",
       "</div>"
      ],
      "text/plain": [
       "    info                                               refs  refs_quant\n",
       "0    NaN  [Минтранс предлагает новую версию законопроект...         135\n",
       "1    NaN  [По информации «РИА Новости», агрегатор такси ...         135\n",
       "2    NaN  [Как сообщает издание Wired, с 1 марта 2022 го...         135\n",
       "3    NaN  [Китайский агрегатор такси DiDi уйдет с россий...         135\n",
       "4    NaN  [По информации издания «Известия», антимонопол...         135\n",
       "..   ...                                                ...         ...\n",
       "13   NaN  [Привет, Хабр! Такое понятие, как «Глубокое об...          18\n",
       "14   NaN  [Перевод поста Филиппа Ходжетта, выступавшего ...          18\n",
       "15   NaN  [Никто не понимает, как работают самые передов...          18\n",
       "16   NaN  [Предположим, вы хотите создать приложение, ко...          18\n",
       "17   NaN  [Добрый день, данная статья о моем opensource ...          18\n",
       "\n",
       "[553 rows x 3 columns]"
      ]
     },
     "execution_count": 7,
     "metadata": {},
     "output_type": "execute_result"
    }
   ],
   "source": [
    "dataset"
   ]
  },
  {
   "cell_type": "code",
   "execution_count": 8,
   "id": "a0c66a78",
   "metadata": {},
   "outputs": [
    {
     "data": {
      "text/plain": [
       "0     [Минтранс предлагает новую версию законопроект...\n",
       "1     [По информации «РИА Новости», агрегатор такси ...\n",
       "2     [Как сообщает издание Wired, с 1 марта 2022 го...\n",
       "3     [Китайский агрегатор такси DiDi уйдет с россий...\n",
       "4     [По информации издания «Известия», антимонопол...\n",
       "                            ...                        \n",
       "13    [Привет, Хабр! Такое понятие, как «Глубокое об...\n",
       "14    [Перевод поста Филиппа Ходжетта, выступавшего ...\n",
       "15    [Никто не понимает, как работают самые передов...\n",
       "16    [Предположим, вы хотите создать приложение, ко...\n",
       "17    [Добрый день, данная статья о моем opensource ...\n",
       "Name: refs, Length: 553, dtype: object"
      ]
     },
     "execution_count": 8,
     "metadata": {},
     "output_type": "execute_result"
    }
   ],
   "source": [
    "dataset['refs']"
   ]
  },
  {
   "cell_type": "markdown",
   "id": "8f8c55ae",
   "metadata": {},
   "source": [
    "Дальше мы парсим информацию из сайта "
   ]
  },
  {
   "cell_type": "markdown",
   "id": "6f638a5d",
   "metadata": {},
   "source": [
    "Подключаем и проверяем соеденение с сайтом, и ищем нужные нам статьи "
   ]
  },
  {
   "cell_type": "code",
   "execution_count": 9,
   "id": "ea973d3d",
   "metadata": {},
   "outputs": [],
   "source": [
    "URL = 'https://habr.com/ru/companies/avito/articles/'"
   ]
  },
  {
   "cell_type": "code",
   "execution_count": 10,
   "id": "7c9de498",
   "metadata": {},
   "outputs": [],
   "source": [
    "r = requests.get(URL)"
   ]
  },
  {
   "cell_type": "code",
   "execution_count": 11,
   "id": "cb2f43a6",
   "metadata": {},
   "outputs": [],
   "source": [
    "soup = bs(r.text, \"html.parser\")"
   ]
  },
  {
   "cell_type": "code",
   "execution_count": 12,
   "id": "341e6ab7",
   "metadata": {},
   "outputs": [],
   "source": [
    "names = soup.find_all('div', {'class' : 'tm-article-body'})"
   ]
  },
  {
   "cell_type": "markdown",
   "id": "4dec34fd",
   "metadata": {},
   "source": [
    "Так же мы для удобства создаём массив с компаниями чтоб парсить было удобнее "
   ]
  },
  {
   "cell_type": "code",
   "execution_count": 13,
   "id": "46fd92e8",
   "metadata": {},
   "outputs": [],
   "source": [
    "company = ['avito', 'vtb', 'vk', 'alfa', 'kaspersky', 'rosatom', 'rostelecom', 'spbifmo', 'sbermarket', 'agima', 'mkb', 'tensor']"
   ]
  },
  {
   "cell_type": "code",
   "execution_count": null,
   "id": "f2174f2e",
   "metadata": {},
   "outputs": [],
   "source": []
  },
  {
   "cell_type": "code",
   "execution_count": 14,
   "id": "f751a2f6",
   "metadata": {},
   "outputs": [],
   "source": [
    "for href_list in names:\n",
    "    name = href_list.find('a', {'class' : 'tm-title__link'})\n",
    "    print(name)"
   ]
  },
  {
   "cell_type": "markdown",
   "id": "b070ddd8",
   "metadata": {},
   "source": [
    "Дальше мы разделяем одну колонку(refs) на несколько других(day, timе, rate, views)"
   ]
  },
  {
   "cell_type": "code",
   "execution_count": 56,
   "id": "f9540c65",
   "metadata": {},
   "outputs": [],
   "source": [
    "dataset['day'] = dataset.apply(lambda x: dataset.iloc[0][1][1]['day'], axis=1 )\n",
    "dataset['time'] = dataset.apply(lambda x: dataset.iloc[0][1][1]['time'], axis=1 )\n",
    "dataset['rete'] = dataset.apply(lambda x: dataset.iloc[0][1][2]['rate'], axis=1 )\n",
    "dataset['views'] = dataset.apply(lambda x: dataset.iloc[0][1][2]['views'], axis=1 )"
   ]
  },
  {
   "cell_type": "markdown",
   "id": "1db85dca",
   "metadata": {},
   "source": [
    "можно удалить только одну колонку так как она не нужна"
   ]
  },
  {
   "cell_type": "code",
   "execution_count": 57,
   "id": "50c8103c",
   "metadata": {},
   "outputs": [
    {
     "data": {
      "text/html": [
       "<div>\n",
       "<style scoped>\n",
       "    .dataframe tbody tr th:only-of-type {\n",
       "        vertical-align: middle;\n",
       "    }\n",
       "\n",
       "    .dataframe tbody tr th {\n",
       "        vertical-align: top;\n",
       "    }\n",
       "\n",
       "    .dataframe thead th {\n",
       "        text-align: right;\n",
       "    }\n",
       "</style>\n",
       "<table border=\"1\" class=\"dataframe\">\n",
       "  <thead>\n",
       "    <tr style=\"text-align: right;\">\n",
       "      <th></th>\n",
       "      <th>info</th>\n",
       "      <th>refs</th>\n",
       "      <th>refs_quant</th>\n",
       "      <th>day</th>\n",
       "      <th>time</th>\n",
       "      <th>rete</th>\n",
       "      <th>views</th>\n",
       "    </tr>\n",
       "  </thead>\n",
       "  <tbody>\n",
       "    <tr>\n",
       "      <th>0</th>\n",
       "      <td>NaN</td>\n",
       "      <td>[Минтранс предлагает новую версию законопроект...</td>\n",
       "      <td>135</td>\n",
       "      <td>29</td>\n",
       "      <td>10:55</td>\n",
       "      <td>7</td>\n",
       "      <td>3500</td>\n",
       "    </tr>\n",
       "    <tr>\n",
       "      <th>1</th>\n",
       "      <td>NaN</td>\n",
       "      <td>[По информации «РИА Новости», агрегатор такси ...</td>\n",
       "      <td>135</td>\n",
       "      <td>29</td>\n",
       "      <td>10:55</td>\n",
       "      <td>7</td>\n",
       "      <td>3500</td>\n",
       "    </tr>\n",
       "    <tr>\n",
       "      <th>2</th>\n",
       "      <td>NaN</td>\n",
       "      <td>[Как сообщает издание Wired, с 1 марта 2022 го...</td>\n",
       "      <td>135</td>\n",
       "      <td>29</td>\n",
       "      <td>10:55</td>\n",
       "      <td>7</td>\n",
       "      <td>3500</td>\n",
       "    </tr>\n",
       "    <tr>\n",
       "      <th>3</th>\n",
       "      <td>NaN</td>\n",
       "      <td>[Китайский агрегатор такси DiDi уйдет с россий...</td>\n",
       "      <td>135</td>\n",
       "      <td>29</td>\n",
       "      <td>10:55</td>\n",
       "      <td>7</td>\n",
       "      <td>3500</td>\n",
       "    </tr>\n",
       "    <tr>\n",
       "      <th>4</th>\n",
       "      <td>NaN</td>\n",
       "      <td>[По информации издания «Известия», антимонопол...</td>\n",
       "      <td>135</td>\n",
       "      <td>29</td>\n",
       "      <td>10:55</td>\n",
       "      <td>7</td>\n",
       "      <td>3500</td>\n",
       "    </tr>\n",
       "    <tr>\n",
       "      <th>...</th>\n",
       "      <td>...</td>\n",
       "      <td>...</td>\n",
       "      <td>...</td>\n",
       "      <td>...</td>\n",
       "      <td>...</td>\n",
       "      <td>...</td>\n",
       "      <td>...</td>\n",
       "    </tr>\n",
       "    <tr>\n",
       "      <th>13</th>\n",
       "      <td>NaN</td>\n",
       "      <td>[Привет, Хабр! Такое понятие, как «Глубокое об...</td>\n",
       "      <td>18</td>\n",
       "      <td>29</td>\n",
       "      <td>10:55</td>\n",
       "      <td>7</td>\n",
       "      <td>3500</td>\n",
       "    </tr>\n",
       "    <tr>\n",
       "      <th>14</th>\n",
       "      <td>NaN</td>\n",
       "      <td>[Перевод поста Филиппа Ходжетта, выступавшего ...</td>\n",
       "      <td>18</td>\n",
       "      <td>29</td>\n",
       "      <td>10:55</td>\n",
       "      <td>7</td>\n",
       "      <td>3500</td>\n",
       "    </tr>\n",
       "    <tr>\n",
       "      <th>15</th>\n",
       "      <td>NaN</td>\n",
       "      <td>[Никто не понимает, как работают самые передов...</td>\n",
       "      <td>18</td>\n",
       "      <td>29</td>\n",
       "      <td>10:55</td>\n",
       "      <td>7</td>\n",
       "      <td>3500</td>\n",
       "    </tr>\n",
       "    <tr>\n",
       "      <th>16</th>\n",
       "      <td>NaN</td>\n",
       "      <td>[Предположим, вы хотите создать приложение, ко...</td>\n",
       "      <td>18</td>\n",
       "      <td>29</td>\n",
       "      <td>10:55</td>\n",
       "      <td>7</td>\n",
       "      <td>3500</td>\n",
       "    </tr>\n",
       "    <tr>\n",
       "      <th>17</th>\n",
       "      <td>NaN</td>\n",
       "      <td>[Добрый день, данная статья о моем opensource ...</td>\n",
       "      <td>18</td>\n",
       "      <td>29</td>\n",
       "      <td>10:55</td>\n",
       "      <td>7</td>\n",
       "      <td>3500</td>\n",
       "    </tr>\n",
       "  </tbody>\n",
       "</table>\n",
       "<p>553 rows × 7 columns</p>\n",
       "</div>"
      ],
      "text/plain": [
       "    info                                               refs  refs_quant day  \\\n",
       "0    NaN  [Минтранс предлагает новую версию законопроект...         135  29   \n",
       "1    NaN  [По информации «РИА Новости», агрегатор такси ...         135  29   \n",
       "2    NaN  [Как сообщает издание Wired, с 1 марта 2022 го...         135  29   \n",
       "3    NaN  [Китайский агрегатор такси DiDi уйдет с россий...         135  29   \n",
       "4    NaN  [По информации издания «Известия», антимонопол...         135  29   \n",
       "..   ...                                                ...         ...  ..   \n",
       "13   NaN  [Привет, Хабр! Такое понятие, как «Глубокое об...          18  29   \n",
       "14   NaN  [Перевод поста Филиппа Ходжетта, выступавшего ...          18  29   \n",
       "15   NaN  [Никто не понимает, как работают самые передов...          18  29   \n",
       "16   NaN  [Предположим, вы хотите создать приложение, ко...          18  29   \n",
       "17   NaN  [Добрый день, данная статья о моем opensource ...          18  29   \n",
       "\n",
       "     time  rete  views  \n",
       "0   10:55     7   3500  \n",
       "1   10:55     7   3500  \n",
       "2   10:55     7   3500  \n",
       "3   10:55     7   3500  \n",
       "4   10:55     7   3500  \n",
       "..    ...   ...    ...  \n",
       "13  10:55     7   3500  \n",
       "14  10:55     7   3500  \n",
       "15  10:55     7   3500  \n",
       "16  10:55     7   3500  \n",
       "17  10:55     7   3500  \n",
       "\n",
       "[553 rows x 7 columns]"
      ]
     },
     "execution_count": 57,
     "metadata": {},
     "output_type": "execute_result"
    }
   ],
   "source": [
    "dataset"
   ]
  },
  {
   "cell_type": "code",
   "execution_count": null,
   "id": "2b333878",
   "metadata": {},
   "outputs": [],
   "source": []
  },
  {
   "cell_type": "markdown",
   "id": "cfe1042e",
   "metadata": {},
   "source": [
    "Дальше мы обрабатываем текст, приводим весь текст к одному регистру, так же удаляем все спецсимволы и лишнии пробелы"
   ]
  },
  {
   "cell_type": "code",
   "execution_count": 40,
   "id": "658b9954",
   "metadata": {},
   "outputs": [],
   "source": [
    "dataset_refs = str(dataset['refs'])"
   ]
  },
  {
   "cell_type": "code",
   "execution_count": 42,
   "id": "f07963e4",
   "metadata": {},
   "outputs": [],
   "source": [
    " dataset_refs= dataset_refs.lower()"
   ]
  },
  {
   "cell_type": "code",
   "execution_count": 48,
   "id": "8fbdb055",
   "metadata": {},
   "outputs": [],
   "source": [
    "dataset_refs = re.sub('[^а-яА-Я]', ' ', dataset_refs)"
   ]
  },
  {
   "cell_type": "code",
   "execution_count": 52,
   "id": "e9f524a7",
   "metadata": {},
   "outputs": [],
   "source": [
    "dataset_refs = re.sub(' +', ' ', dataset_refs).strip()"
   ]
  },
  {
   "cell_type": "code",
   "execution_count": 60,
   "id": "7435e1c7",
   "metadata": {},
   "outputs": [
    {
     "ename": "AttributeError",
     "evalue": "module 'pandas' has no attribute 'to_read'",
     "output_type": "error",
     "traceback": [
      "\u001b[1;31m---------------------------------------------------------------------------\u001b[0m",
      "\u001b[1;31mAttributeError\u001b[0m                            Traceback (most recent call last)",
      "\u001b[1;32mC:\\Users\\PROFIM~1\\AppData\\Local\\Temp/ipykernel_6312/3963686791.py\u001b[0m in \u001b[0;36m<module>\u001b[1;34m\u001b[0m\n\u001b[1;32m----> 1\u001b[1;33m \u001b[0mpd\u001b[0m\u001b[1;33m.\u001b[0m\u001b[0mto_read\u001b[0m\u001b[1;33m\u001b[0m\u001b[1;33m\u001b[0m\u001b[0m\n\u001b[0m",
      "\u001b[1;32mC:\\ProgramData\\Anaconda3\\lib\\site-packages\\pandas\\__init__.py\u001b[0m in \u001b[0;36m__getattr__\u001b[1;34m(name)\u001b[0m\n\u001b[0;32m    242\u001b[0m         \u001b[1;32mreturn\u001b[0m \u001b[0m_SparseArray\u001b[0m\u001b[1;33m\u001b[0m\u001b[1;33m\u001b[0m\u001b[0m\n\u001b[0;32m    243\u001b[0m \u001b[1;33m\u001b[0m\u001b[0m\n\u001b[1;32m--> 244\u001b[1;33m     \u001b[1;32mraise\u001b[0m \u001b[0mAttributeError\u001b[0m\u001b[1;33m(\u001b[0m\u001b[1;34mf\"module 'pandas' has no attribute '{name}'\"\u001b[0m\u001b[1;33m)\u001b[0m\u001b[1;33m\u001b[0m\u001b[1;33m\u001b[0m\u001b[0m\n\u001b[0m\u001b[0;32m    245\u001b[0m \u001b[1;33m\u001b[0m\u001b[0m\n\u001b[0;32m    246\u001b[0m \u001b[1;33m\u001b[0m\u001b[0m\n",
      "\u001b[1;31mAttributeError\u001b[0m: module 'pandas' has no attribute 'to_read'"
     ]
    }
   ],
   "source": [
    "pd.to_read"
   ]
  },
  {
   "cell_type": "code",
   "execution_count": null,
   "id": "3676a6d3",
   "metadata": {},
   "outputs": [],
   "source": []
  },
  {
   "cell_type": "code",
   "execution_count": null,
   "id": "a8171877",
   "metadata": {},
   "outputs": [],
   "source": []
  },
  {
   "cell_type": "code",
   "execution_count": null,
   "id": "c2d9338a",
   "metadata": {},
   "outputs": [],
   "source": []
  },
  {
   "cell_type": "code",
   "execution_count": null,
   "id": "4755d8ee",
   "metadata": {},
   "outputs": [],
   "source": []
  },
  {
   "cell_type": "code",
   "execution_count": null,
   "id": "aa899d54",
   "metadata": {},
   "outputs": [],
   "source": []
  },
  {
   "cell_type": "code",
   "execution_count": null,
   "id": "c240b228",
   "metadata": {},
   "outputs": [],
   "source": []
  },
  {
   "cell_type": "code",
   "execution_count": null,
   "id": "c87a1a8c",
   "metadata": {},
   "outputs": [],
   "source": []
  },
  {
   "cell_type": "code",
   "execution_count": null,
   "id": "27942a6c",
   "metadata": {},
   "outputs": [],
   "source": []
  },
  {
   "cell_type": "code",
   "execution_count": null,
   "id": "003789ad",
   "metadata": {},
   "outputs": [],
   "source": []
  },
  {
   "cell_type": "code",
   "execution_count": null,
   "id": "984d7722",
   "metadata": {},
   "outputs": [],
   "source": []
  },
  {
   "cell_type": "code",
   "execution_count": null,
   "id": "44838c41",
   "metadata": {},
   "outputs": [],
   "source": []
  },
  {
   "cell_type": "code",
   "execution_count": null,
   "id": "be03563a",
   "metadata": {},
   "outputs": [],
   "source": []
  },
  {
   "cell_type": "code",
   "execution_count": null,
   "id": "221aaffd",
   "metadata": {},
   "outputs": [],
   "source": []
  },
  {
   "cell_type": "code",
   "execution_count": null,
   "id": "6f2456e8",
   "metadata": {},
   "outputs": [],
   "source": []
  }
 ],
 "metadata": {
  "kernelspec": {
   "display_name": "Python 3 (ipykernel)",
   "language": "python",
   "name": "python3"
  },
  "language_info": {
   "codemirror_mode": {
    "name": "ipython",
    "version": 3
   },
   "file_extension": ".py",
   "mimetype": "text/x-python",
   "name": "python",
   "nbconvert_exporter": "python",
   "pygments_lexer": "ipython3",
   "version": "3.9.7"
  }
 },
 "nbformat": 4,
 "nbformat_minor": 5
}
